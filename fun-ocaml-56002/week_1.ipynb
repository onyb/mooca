{
  "worksheets": [
    {
      "cells": [
        {
          "source": [
            "## Basic types, definitions, and functions"
          ],
          "metadata": {},
          "cell_type": "markdown"
        },
        {
          "source": [
            "### Basic Data Types\n",
            "\n",
            "#### Type inference\n",
            "\n",
            "- Types of identifiers are inferred, not declared\n",
            "- A distinguishing feature of OCaml\n",
            "- Reconciles the flexibility of untyped languages with the safety of typed languages\n",
            "- A very rich type system\n",
            "- Polymorphic types provide additional flexibility\n",
            "\n",
            "#### Integers\n",
            "\n",
            "- Type: __int__\n",
            "- Values: $-2^{62}$ to $2^{62}-1$ (on 64-bit architectures)\n",
            "- Arithmetic operators: `+`, `-`, `*`, `/`\n",
            "- Calculations are performed modulo $2^{63}$\n",
            "- `/` is the integer division: `7/2 = 3`\n",
            "- __mod__ is integer remainder: `7 mod 2 = 1`\n",
            "\n",
            "#### Booleans\n",
            "\n",
            "- Type: __bool__\n",
            "- Values: `true` and `false`\n",
            "- Boolean operators: `&&`, `||`, `not`\n",
            "- Comparision operators: `<`, `>`, `=`, `<=`, `>=`\n",
            "- Negation is __not__; and unlike other programming languages, `!` is wrong\n",
            "- Conjunction is __`&&`__; `\"&\"` used to be supported but has been removed from OCaml\n",
            "- Conjunction is __`&&`__; `\"and\"` has a different meaning\n",
            "- We can only compare values of the same type\n",
            "  - `5.0 > \"hello\";;`  $\\rightarrow$ Error\n",
            "  - `(7.56 <= 8e32) && (6>-3);;` $\\rightarrow$ `true`\n",
            "  \n",
            "#### Exercise: Boolean operations\n",
            "\n",
            "- Select valid expressions that evaluate to `false`\n",
            "  - ☐ `!true` $\\rightarrow$ `!` isn't a negation operator\n",
            "  - ☐ `!!false` $\\rightarrow$ `!` isn't a negation operator\n",
            "  - ☑ `not true`\n",
            "  - ☐ `not not false` $\\rightarrow$ `not` is a unary function\n",
            "  - ☑ `not (not false)`\n",
            "\n",
            "  \n",
            "- Select the syntactically valid expressions that do not use deprecated operators\n",
            "  - ☐ `true and false` $\\rightarrow$ `and` has a completely different meaning\n",
            "  - ☑ `true && false`\n",
            "  - ☐ `true & false` $\\rightarrow$ deprecated\n",
            "  - ☐ `false or false` $\\rightarrow$ deprecated\n",
            "  - ☐ `false | false` $\\rightarrow$ `!` has a completely different meaning\n",
            "  - ☑ `true || false`\n",
            "\n",
            "\n",
            "- What is result of compiling and evalutating: `false and true`? $\\rightarrow$ Syntax error\n",
            "\n",
            "\n",
            "- What is result of compiling and evalutating: `not false || true`? $\\rightarrow$ `true`\n",
            "\n",
            "\n",
            "- What is result of compiling and evalutating: `1<2 && 2<>3`? $\\rightarrow$ `true` (`<>` means \"not equals\")\n",
            "\n",
            "\n",
            "- What is result of compiling and evalutating: `true>false`? $\\rightarrow$ `true`\n",
            "\n",
            "\n",
            "- What is result of compiling and evalutating: `1=true`? $\\rightarrow$ Type error\n",
            "\n",
            "\n",
            "- What is result of compiling and evalutating: `1<2<3`? $\\rightarrow$ Type error (comparision between `bool` and `int`: `true<3`)\n",
            "\n",
            "\n",
            "- What is result of compiling and evalutating: `true=1 && not (3=4)`? $\\rightarrow$ Type error\n",
            "\n",
            "\n",
            "- What is result of compiling and evalutating: `false<=0 && 3<=4`? $\\rightarrow$ Type error\n",
            "\n",
            "\n",
            "- What is result of compiling and evalutating: `true<>false && 3<>4`? $\\rightarrow$ Type error\n",
            "\n",
            "\n",
            "- What is result of compiling and evalutating: `true=1 && not (3=4)`? $\\rightarrow$ Type error\n",
            "\n",
            "\n",
            "- What is result of compiling and evalutating: `not (true>=false) || 3=4`? $\\rightarrow$ `false`\n",
            "\n",
            "\n",
            "- What is result of compiling and evalutating: `(not true)>=false || 3=4`? $\\rightarrow$ `true`\n",
            "\n",
            "\n",
            "- What is result of compiling and evalutating: `not true>=false || 3=4`? $\\rightarrow$ `true`\n",
            "\n",
            "\n",
            "- What is result of compiling and evalutating: `1=2=true`? $\\rightarrow$ `false`\n",
            "\n",
            "\n",
            "- What is result of compiling and evalutating: `false=1=2`? $\\rightarrow$ Type error"
          ],
          "metadata": {},
          "cell_type": "markdown"
        },
        {
          "source": [
            "### More data types\n",
            "\n",
            "#### Floating-point arithmetic\n",
            "\n",
            "- Type: __float__\n",
            "- Values: Must be written with a decimal point, or exponential, or both\n",
            "- Operations: `+.`, `-.`, `*.`, `/.`\n",
            "- Functions: `sqrt`, `sin`, `cos`, `ceil`, `floor`\n",
            "- Floating-point constants must indicate that they are not integers, by using a decimal point or exponent\n",
            "- Floating-point operations must be written with a dot (`.`)\n",
            "\n",
            "\n",
            "#### Conversion between types\n",
            "\n",
            "- Basic types are disjoint: no value belongs to two different basic types\n",
            "- No implicit conversion between types\n",
            "- Explicit conversion operations\n",
            "- Background: Implicit conversion would not go well with type inference\n",
            "\n",
            "\n",
            "#### Conversion of floating-point to integer\n",
            "\n",
            "- Conversion functions in both directions\n",
            "  - `float_of_int`: `int` $\\rightarrow$ `float`\n",
            "  - `int_of_float`: `float` $\\rightarrow$ `int`\n",
            "- Function application: write the name of the function followed by the argument\n",
            "- Use paranthesis only when necessary to denote structure\n",
            "\n",
            "\n",
            "#### Characters\n",
            "\n",
            "- Type: __char__\n",
            "- Values: 256 characters, numbered from 0 to 255\n",
            "- Can be written like `'a'`, `'\\087'`, etc.\n",
            "- Conversion functions\n",
            "  - `Char.chr`: `int` $\\rightarrow$ `char`\n",
            "  - `Char.code`: `char` $\\rightarrow$ `int`\n",
            "- `Char.code 'A';;` $\\rightarrow$ `int = 65`\n",
            "\n",
            "\n",
            "#### Strings\n",
            "\n",
            "- Type: `String`\n",
            "- Values: Character strings, written like \"Hello, World!\"\n",
            "- Operator `^` is used for string concatenation\n",
            "- Many functions like:\n",
            "  - `String.length`: `string` $\\rightarrow$ `int`\n",
            "  - `int_of_string`: `string` $\\rightarrow$ `int`\n",
            "  - `float_of_string`: `string` $\\rightarrow$ `float`\n",
            "- Strings, Characters, Floats, Booleans, Integers are all disjoint\n",
            "- We must use explicit conversion functions\n",
            "- Positions in string are numbered from 0 to its length minus 1\n",
            "- `String.get \"abcdef\" 1;;` $\\rightarrow$ `char = 'b'`\n",
            "\n",
            "\n",
            "#### Exercise: Floating-point constants\n",
            "\n",
            "- `1.5 *. 1e3` $\\rightarrow$ `1500.`\n",
            "\n",
            "- `1.5 *. 1000.` $\\rightarrow$ `1500.`\n",
            "\n",
            "- `1.5 *. 1000` $\\rightarrow$ Type error\n",
            "\n",
            "- `1.5 *. \"1e3\"` $\\rightarrow$ Type error\n",
            "\n",
            "- `1.5 * 1000.` $\\rightarrow$ Type error\n",
            "\n",
            "- `1.5e3` $\\rightarrow$ `1500.`\n",
            "\n",
            "- `1000. +. 500. /. 2.` $\\rightarrow$ `1250.`\n",
            "\n",
            "- `1.5e3 <= 1500. && 1500 <= 1500 && false <= true` $\\rightarrow$ `true`\n",
            "\n",
            "- `1500 < 1500.1` $\\rightarrow$ Type error\n",
            "\n",
            "- `floor 1500.1 = 1500` $\\rightarrow$ Type error\n",
            "\n",
            "- `10. /. 3. *. 3.` $\\rightarrow$ `10.`\n",
            "\n",
            "- `sqrt 16. +. 9.`  $\\rightarrow$ `13.`"
          ],
          "metadata": {},
          "cell_type": "markdown"
        },
        {
          "source": [
            "### Expressions\n",
            "\n",
            "#### Expressions\n",
            "\n",
            "- Expressions compute values\n",
            "- Expressions play a prime role in functional programming\n",
            "- Very rich language of expressions\n",
            "\n",
            "#### Exercise: Boolean expressions\n",
            "\n",
            "- `1. <> 2.5 && 3 <> 4` $\\rightarrow$ `true`\n",
            "- `1 <= int_of_float 2.5 && 3. <= floor 3.5` $\\rightarrow$ `true`\n",
            "- `not 1. = 2. || not 3 = 4` $\\rightarrow$ Type error (there should be brackets as `not (1. = 2.)`)\n",
            "- `1 <= 2.5 && 3 <= 4.5` $\\rightarrow$ Type error\n",
            "\n",
            "\n",
            "#### Conditional expressions\n",
            "\n",
            "- `if ... then ... else` is an expression, not an instruction\n",
            "- `type` is the type of expressions in the `then` and `else`, which must be the same\n",
            "- __Pitfall:__ default value in case of a missing else\n",
            "\n",
            "#### Exercise: Conditional expressions\n",
            "\n",
            "- `if 1=2 then \"abc\" else \"def\";;`  $\\rightarrow$ `def`\n",
            "- `if 1=2 then 3 else 4.5;;`  $\\rightarrow$ Type error\n",
            "- `if (1<>2) then 3 else 4;;` $\\rightarrow$ `3`\n",
            "- `if 1 then 2 else 3;;` $\\rightarrow$ Type error\n",
            "- `if 1=2 then 34 else \"56\";;` $\\rightarrow$ Type error\n",
            "- `if 1<\"2\" then 3.4 else 5.6;;` $\\rightarrow$ Type error\n",
            "- `if \"Amazone\" < \"Amour\" then 3.4 else 5.6;;` $\\rightarrow$ `3.4`\n",
            "- `if 0 then 1 else 2;;` $\\rightarrow$ Type error\n",
            "- `1 + (if 2=3 then 4. else 5.)` $\\rightarrow$ Type error\n",
            "- `if (if 1=2 then 3 else 4)<>5 then 6 else 7;;` $\\rightarrow$ `6`\n",
            "- `if 1<>2 then (if 3<>4 then 6 else 7) else 8;;` $\\rightarrow$ `6`\n",
            "- `1 + (if 2=3 then 4 else 5)` $\\rightarrow$ `6`\n",
            "- `if 1<>2 then if 3=4 then 'a' else 'b' else 'c'` $\\rightarrow$ `b`\n",
            "- `if 1=2 then (if 3=4 then 'a' else 'b') else (if 'c'<>'d' then 'e' else 'f')` $\\rightarrow$ `e`\n",
            "- `if 1=2 then if 3=4 then 5 else 6 else if 'a'<>'b' then 'c' else 'd'` $\\rightarrow$ `b`"
          ],
          "metadata": {},
          "cell_type": "markdown"
        },
        {
          "outputs": [
            {
              "html": [
                "<pre style=\"color:slategray;max-height:100px;overflow:hidden\" \n",
                "onclick=\"\n",
                "if (this.style.maxHeight === 'none') \n",
                "    this.style.maxHeight = '100px';\n",
                "else\n",
                "    this.style.maxHeight = 'none'; \n",
                "\">- : int = 13\n",
                "</pre>"
              ],
              "output_type": "pyout",
              "prompt_number": 3,
              "metadata": {}
            },
            {
              "html": [
                "<pre style=\"color:slategray;max-height:100px;overflow:hidden\" \n",
                "onclick=\"\n",
                "if (this.style.maxHeight === 'none') \n",
                "    this.style.maxHeight = '100px';\n",
                "else\n",
                "    this.style.maxHeight = 'none'; \n",
                "\">- : bool = true\n",
                "</pre>"
              ],
              "output_type": "pyout",
              "prompt_number": 3,
              "metadata": {}
            },
            {
              "html": [
                "<pre style=\"color:slategray;max-height:100px;overflow:hidden\" \n",
                "onclick=\"\n",
                "if (this.style.maxHeight === 'none') \n",
                "    this.style.maxHeight = '100px';\n",
                "else\n",
                "    this.style.maxHeight = 'none'; \n",
                "\">- : bool = true\n",
                "</pre>"
              ],
              "output_type": "pyout",
              "prompt_number": 3,
              "metadata": {}
            }
          ],
          "input": [
            "if 1<2 then 6+7 else 67/23;;\n",
            "\n",
            "(if 6=3+3 then 3<4 else 8>7) && 67.8>33.1;;\n",
            "\n",
            "if (if 1=1 then 2=2 else 4.0>3.2) then 2<3 else 3<2;;"
          ],
          "metadata": {},
          "cell_type": "code",
          "prompt_number": 3,
          "language": "python",
          "collapsed": false
        },
        {
          "outputs": [
            {
              "html": [
                "<pre style=\"color:red;max-height:100px;overflow:hidden\" \n",
                "onclick=\"\n",
                "if (this.style.maxHeight === 'none') \n",
                "    this.style.maxHeight = '100px';\n",
                "else\n",
                "    this.style.maxHeight = 'none'; \n",
                "\">File &quot;[4]&quot;, line 1, characters 19-23:\n",
                "Error: This expression has type float but an expression was expected of type\n",
                "         int\n",
                "Characters 19-23:\n",
                "  if 6=8 then 1 else 77.5;; (* Error *)\n",
                "                     ^^^^\n",
                "</pre>"
              ],
              "output_type": "pyout",
              "prompt_number": 4,
              "metadata": {}
            }
          ],
          "input": [
            "if 6=8 then 1 else 77.5;; (* Error *)"
          ],
          "metadata": {},
          "cell_type": "code",
          "prompt_number": 4,
          "language": "python",
          "collapsed": false
        },
        {
          "source": [
            "#### Function application\n",
            "\n",
            "- The type of a function with `n` arguments is: `type-arg_1 -> type-arg_2 -> ... -> type-arg_n -> type-result`\n",
            "- To apply a function `f` to `n` arguments: `f exp_1 .. exp_n`"
          ],
          "metadata": {},
          "cell_type": "markdown"
        },
        {
          "outputs": [
            {
              "html": [
                "<pre style=\"color:slategray;max-height:100px;overflow:hidden\" \n",
                "onclick=\"\n",
                "if (this.style.maxHeight === 'none') \n",
                "    this.style.maxHeight = '100px';\n",
                "else\n",
                "    this.style.maxHeight = 'none'; \n",
                "\">- : string -&gt; int -&gt; char = &lt;fun&gt;\n",
                "</pre>"
              ],
              "output_type": "pyout",
              "prompt_number": 1,
              "metadata": {}
            },
            {
              "html": [
                "<pre style=\"color:slategray;max-height:100px;overflow:hidden\" \n",
                "onclick=\"\n",
                "if (this.style.maxHeight === 'none') \n",
                "    this.style.maxHeight = '100px';\n",
                "else\n",
                "    this.style.maxHeight = 'none'; \n",
                "\">- : char = '6'\n",
                "</pre>"
              ],
              "output_type": "pyout",
              "prompt_number": 1,
              "metadata": {}
            }
          ],
          "input": [
            "String.get;;\n",
            "String.get (string_of_int 65) (int_of_string \"0\");;"
          ],
          "metadata": {},
          "cell_type": "code",
          "prompt_number": 1,
          "language": "python",
          "collapsed": false
        },
        {
          "source": [
            "#### Expression pitfalls\n",
            "\n",
            "- Local definitions can be used to cut large expressions into pieces\n",
            "- Functions may be under-supplied with arguments\n",
            "- `f(e1, e2)` is __not__ an application of `f` to two arguments\n",
            "- The operator for checking equality of values is \"`=`\""
          ],
          "metadata": {},
          "cell_type": "markdown"
        },
        {
          "source": [
            "#### Polymorphic operators\n",
            "\n",
            "- Operators have an infix syntax, like `(3+5)*5`\n",
            "- Operators like functions, always have a type: __`+`__ : `int -> int-> int`\n",
            "- Some operators have polymorphic type: __`>`__ : `'a -> 'a -> bool`\n",
            "- Polymorphic types contain type variables indicated by an initial quote\n",
            "- `'a` reads alpha, `'b` reads beta\n",
            "- Type variables can be instantiated by any type"
          ],
          "metadata": {},
          "cell_type": "markdown"
        },
        {
          "source": [
            "### Definitions\n",
            "\n",
            "#### Global definitions\n",
            "\n",
            "- Give names to values\n",
            "- Global definitions are effective for the rest of the toplevel session\n",
            "- Syntax: `let name = expression`\n",
            "- There is no separate declaration of identifier\n",
            "- Once set, the value of an identifier never changes\n",
            "- Once defined, an identifier can be used in expressions\n",
            "\n",
            "#### Local definitions\n",
            "\n",
            "- Naming with a delimited scope\n",
            "- Syntax: `let name = exp1 in exp2`\n",
            "- Here, the scope of name is `exp2`\n",
            "- A local definition may temporarily hide a more global one"
          ],
          "metadata": {},
          "cell_type": "markdown"
        },
        {
          "outputs": [
            {
              "html": [
                "<pre style=\"color:slategray;max-height:100px;overflow:hidden\" \n",
                "onclick=\"\n",
                "if (this.style.maxHeight === 'none') \n",
                "    this.style.maxHeight = '100px';\n",
                "else\n",
                "    this.style.maxHeight = 'none'; \n",
                "\">- : int = 18\n",
                "</pre>"
              ],
              "output_type": "pyout",
              "prompt_number": 8,
              "metadata": {}
            },
            {
              "html": [
                "<pre style=\"color:red;max-height:100px;overflow:hidden\" \n",
                "onclick=\"\n",
                "if (this.style.maxHeight === 'none') \n",
                "    this.style.maxHeight = '100px';\n",
                "else\n",
                "    this.style.maxHeight = 'none'; \n",
                "\">File &quot;[8]&quot;, line 2, characters 0-1:\n",
                "Error: Unbound value x\n",
                "Characters 21-22:\n",
                "  x;; (* Error *)\n",
                "  ^\n",
                "</pre>"
              ],
              "output_type": "pyout",
              "prompt_number": 8,
              "metadata": {}
            }
          ],
          "input": [
            "let x = 4+5 in 2*x;;\n",
            "x;; (* Error *)"
          ],
          "metadata": {},
          "cell_type": "code",
          "prompt_number": 8,
          "language": "python",
          "collapsed": false
        },
        {
          "outputs": [
            {
              "html": [
                "<pre style=\"color:slategray;max-height:100px;overflow:hidden\" \n",
                "onclick=\"\n",
                "if (this.style.maxHeight === 'none') \n",
                "    this.style.maxHeight = '100px';\n",
                "else\n",
                "    this.style.maxHeight = 'none'; \n",
                "\">val x : int = 17\n",
                "</pre>"
              ],
              "output_type": "pyout",
              "prompt_number": 12,
              "metadata": {}
            },
            {
              "html": [
                "<pre style=\"color:slategray;max-height:100px;overflow:hidden\" \n",
                "onclick=\"\n",
                "if (this.style.maxHeight === 'none') \n",
                "    this.style.maxHeight = '100px';\n",
                "else\n",
                "    this.style.maxHeight = 'none'; \n",
                "\">- : int = 17\n",
                "</pre>"
              ],
              "output_type": "pyout",
              "prompt_number": 12,
              "metadata": {}
            },
            {
              "html": [
                "<pre style=\"color:slategray;max-height:100px;overflow:hidden\" \n",
                "onclick=\"\n",
                "if (this.style.maxHeight === 'none') \n",
                "    this.style.maxHeight = '100px';\n",
                "else\n",
                "    this.style.maxHeight = 'none'; \n",
                "\">- : int = 6\n",
                "</pre>"
              ],
              "output_type": "pyout",
              "prompt_number": 12,
              "metadata": {}
            },
            {
              "html": [
                "<pre style=\"color:slategray;max-height:100px;overflow:hidden\" \n",
                "onclick=\"\n",
                "if (this.style.maxHeight === 'none') \n",
                "    this.style.maxHeight = '100px';\n",
                "else\n",
                "    this.style.maxHeight = 'none'; \n",
                "\">- : int = 10\n",
                "</pre>"
              ],
              "output_type": "pyout",
              "prompt_number": 12,
              "metadata": {}
            },
            {
              "html": [
                "<pre style=\"color:slategray;max-height:100px;overflow:hidden\" \n",
                "onclick=\"\n",
                "if (this.style.maxHeight === 'none') \n",
                "    this.style.maxHeight = '100px';\n",
                "else\n",
                "    this.style.maxHeight = 'none'; \n",
                "\">- : int = 22\n",
                "</pre>"
              ],
              "output_type": "pyout",
              "prompt_number": 12,
              "metadata": {}
            }
          ],
          "input": [
            "let x = 17;;\n",
            "\n",
            "x;;\n",
            "\n",
            "let y = x+1 in y/3;;\n",
            "\n",
            "let x = 4 in\n",
            "  let y = x+1 in\n",
            "    let x = 2*y in x\n",
            ";;\n",
            "\n",
            "let x = 4 in\n",
            "  (let x = 17 in x+1) + x\n",
            ";;"
          ],
          "metadata": {},
          "cell_type": "code",
          "prompt_number": 12,
          "language": "python",
          "collapsed": false
        },
        {
          "source": [
            "#### Simultaneous definitions\n",
            "\n",
            "- `let x = e` : `e` is evaluated wrt the value bindings before the `let`\n",
            "- `let x1 = e1 and x2 = e2` : both expressions are evaluated wrt the value bindings before the `let`\n",
            "- The above let binding is same as `let x2 = e2 and x1 = e1`\n",
            "- Works with both global and local definitions"
          ],
          "metadata": {},
          "cell_type": "markdown"
        },
        {
          "outputs": [
            {
              "html": [
                "<pre style=\"color:slategray;max-height:100px;overflow:hidden\" \n",
                "onclick=\"\n",
                "if (this.style.maxHeight === 'none') \n",
                "    this.style.maxHeight = '100px';\n",
                "else\n",
                "    this.style.maxHeight = 'none'; \n",
                "\">val x : int = 1\n",
                "</pre>"
              ],
              "output_type": "pyout",
              "prompt_number": 14,
              "metadata": {}
            },
            {
              "html": [
                "<pre style=\"color:slategray;max-height:100px;overflow:hidden\" \n",
                "onclick=\"\n",
                "if (this.style.maxHeight === 'none') \n",
                "    this.style.maxHeight = '100px';\n",
                "else\n",
                "    this.style.maxHeight = 'none'; \n",
                "\">- : int = 6\n",
                "</pre>"
              ],
              "output_type": "pyout",
              "prompt_number": 14,
              "metadata": {}
            },
            {
              "html": [
                "<pre style=\"color:slategray;max-height:100px;overflow:hidden\" \n",
                "onclick=\"\n",
                "if (this.style.maxHeight === 'none') \n",
                "    this.style.maxHeight = '100px';\n",
                "else\n",
                "    this.style.maxHeight = 'none'; \n",
                "\">- : int = 4\n",
                "</pre>"
              ],
              "output_type": "pyout",
              "prompt_number": 14,
              "metadata": {}
            }
          ],
          "input": [
            "let x = 1;;\n",
            "\n",
            "(* sequential definitions *)\n",
            "let x = 2 in\n",
            "  let y = x+1 in  (* y = 2+1 *)\n",
            "    x*y           (* 2*3 *)\n",
            ";;\n",
            "\n",
            "(* simultaneous definitions *)\n",
            "let x = 2 and\n",
            "  y = x+1 in      (* y = 1+1 *)\n",
            "    x*y           (* 2*2 *)\n",
            ";;"
          ],
          "metadata": {},
          "cell_type": "code",
          "prompt_number": 14,
          "language": "python",
          "collapsed": false
        },
        {
          "source": [
            "#### Exercise: Definitions"
          ],
          "metadata": {},
          "cell_type": "markdown"
        },
        {
          "outputs": [
            {
              "html": [
                "<pre style=\"color:slategray;max-height:100px;overflow:hidden\" \n",
                "onclick=\"\n",
                "if (this.style.maxHeight === 'none') \n",
                "    this.style.maxHeight = '100px';\n",
                "else\n",
                "    this.style.maxHeight = 'none'; \n",
                "\">val a : int = 7\n",
                "</pre>"
              ],
              "output_type": "pyout",
              "prompt_number": 45,
              "metadata": {}
            },
            {
              "html": [
                "<pre style=\"color:slategray;max-height:100px;overflow:hidden\" \n",
                "onclick=\"\n",
                "if (this.style.maxHeight === 'none') \n",
                "    this.style.maxHeight = '100px';\n",
                "else\n",
                "    this.style.maxHeight = 'none'; \n",
                "\">val x_power_8 : int -&gt; int = &lt;fun&gt;\n",
                "</pre>"
              ],
              "output_type": "pyout",
              "prompt_number": 45,
              "metadata": {}
            },
            {
              "html": [
                "<pre style=\"color:slategray;max-height:100px;overflow:hidden\" \n",
                "onclick=\"\n",
                "if (this.style.maxHeight === 'none') \n",
                "    this.style.maxHeight = '100px';\n",
                "else\n",
                "    this.style.maxHeight = 'none'; \n",
                "\">- : int = 5764801\n",
                "</pre>"
              ],
              "output_type": "pyout",
              "prompt_number": 45,
              "metadata": {}
            },
            {
              "html": [
                "<pre style=\"color:slategray;max-height:100px;overflow:hidden\" \n",
                "onclick=\"\n",
                "if (this.style.maxHeight === 'none') \n",
                "    this.style.maxHeight = '100px';\n",
                "else\n",
                "    this.style.maxHeight = 'none'; \n",
                "\">val x_power_8_rec : int -&gt; int = &lt;fun&gt;\n",
                "</pre>"
              ],
              "output_type": "pyout",
              "prompt_number": 45,
              "metadata": {}
            },
            {
              "html": [
                "<pre style=\"color:slategray;max-height:100px;overflow:hidden\" \n",
                "onclick=\"\n",
                "if (this.style.maxHeight === 'none') \n",
                "    this.style.maxHeight = '100px';\n",
                "else\n",
                "    this.style.maxHeight = 'none'; \n",
                "\">- : int = 5764801\n",
                "</pre>"
              ],
              "output_type": "pyout",
              "prompt_number": 45,
              "metadata": {}
            }
          ],
          "input": [
            "(* Integer identifiers\n",
            " * \n",
            " * Suppose a variable x exists and is an integer.\n",
            " * Define a variable x_power_8 that uses 3 multiplications\n",
            " * to calculate x power of 8. The only function you're allowed\n",
            " * to call is the * operator.\n",
            " *)\n",
            " \n",
            "(* The given prelude *)\n",
            "let a = Random.int 9 + 1;;\n",
            "\n",
            "let x_power_8 x =\n",
            "  let x1 = x*x in\n",
            "    let x2 = x1*x1 in\n",
            "      x2*x2\n",
            ";;\n",
            "\n",
            "x_power_8 a;;\n",
            "\n",
            "(* Alternate recursive solution using 1 multiplication only *)\n",
            "let x_power_8_rec n =\n",
            "  let rec aux idx =\n",
            "    if idx = 8\n",
            "    then\n",
            "      1\n",
            "    else\n",
            "      n * aux(idx+1)\n",
            "  in\n",
            "    aux 0\n",
            ";;\n",
            "\n",
            "x_power_8_rec a;;"
          ],
          "metadata": {},
          "cell_type": "code",
          "prompt_number": 45,
          "language": "python",
          "collapsed": false
        },
        {
          "outputs": [
            {
              "html": [
                "<pre style=\"color:slategray;max-height:100px;overflow:hidden\" \n",
                "onclick=\"\n",
                "if (this.style.maxHeight === 'none') \n",
                "    this.style.maxHeight = '100px';\n",
                "else\n",
                "    this.style.maxHeight = 'none'; \n",
                "\">val word : string = &quot;foo&quot;\n",
                "</pre>"
              ],
              "output_type": "pyout",
              "prompt_number": 47,
              "metadata": {}
            },
            {
              "html": [
                "<pre style=\"color:slategray;max-height:100px;overflow:hidden\" \n",
                "onclick=\"\n",
                "if (this.style.maxHeight === 'none') \n",
                "    this.style.maxHeight = '100px';\n",
                "else\n",
                "    this.style.maxHeight = 'none'; \n",
                "\">val x : string = &quot;foo,&quot;\n",
                "</pre>"
              ],
              "output_type": "pyout",
              "prompt_number": 47,
              "metadata": {}
            },
            {
              "html": [
                "<pre style=\"color:slategray;max-height:100px;overflow:hidden\" \n",
                "onclick=\"\n",
                "if (this.style.maxHeight === 'none') \n",
                "    this.style.maxHeight = '100px';\n",
                "else\n",
                "    this.style.maxHeight = 'none'; \n",
                "\">val sentence : string = &quot;foo,foo,foo,foo,foo,foo,foo,foo,foo,&quot;\n",
                "</pre>"
              ],
              "output_type": "pyout",
              "prompt_number": 47,
              "metadata": {}
            }
          ],
          "input": [
            "(* String identifiers\n",
            " * \n",
            " * Suppose that a variable word exists and is a string.\n",
            " * Define a variable sentence that uses 5 string concatenations\n",
            " * to create a string containing 9 times word, separated by commas\n",
            " *)\n",
            " \n",
            "let word = \"foo\";;\n",
            "\n",
            "let x =\n",
            "  word ^ \",\";;\n",
            "\n",
            "let sentence =\n",
            "  let x1 = x ^ x ^ x in\n",
            "    let x2 = x1 ^ x1 in\n",
            "      x2 ^ x1\n",
            ";;"
          ],
          "metadata": {},
          "cell_type": "code",
          "prompt_number": 47,
          "language": "python",
          "collapsed": false
        },
        {
          "source": [
            "### Functions\n",
            "\n",
            "#### Defining functions\n",
            "\n",
            "- Global definition of a function with one argument: `let f x = exp`\n",
            "- Local definition of a function with one argument: `let f x = exp1 in exp2`\n",
            "- Scoping rules as before: local definitions hide more global ones\n",
            "- Application of function named `f` to expression `e`: `f e`\n",
            "- Parantheses indicate structure of expressions"
          ],
          "metadata": {},
          "cell_type": "markdown"
        },
        {
          "outputs": [
            {
              "html": [
                "<pre style=\"color:slategray;max-height:100px;overflow:hidden\" \n",
                "onclick=\"\n",
                "if (this.style.maxHeight === 'none') \n",
                "    this.style.maxHeight = '100px';\n",
                "else\n",
                "    this.style.maxHeight = 'none'; \n",
                "\">val f : int -&gt; int = &lt;fun&gt;\n",
                "</pre>"
              ],
              "output_type": "pyout",
              "prompt_number": 16,
              "metadata": {}
            },
            {
              "html": [
                "<pre style=\"color:slategray;max-height:100px;overflow:hidden\" \n",
                "onclick=\"\n",
                "if (this.style.maxHeight === 'none') \n",
                "    this.style.maxHeight = '100px';\n",
                "else\n",
                "    this.style.maxHeight = 'none'; \n",
                "\">- : int = 18\n",
                "</pre>"
              ],
              "output_type": "pyout",
              "prompt_number": 16,
              "metadata": {}
            },
            {
              "html": [
                "<pre style=\"color:slategray;max-height:100px;overflow:hidden\" \n",
                "onclick=\"\n",
                "if (this.style.maxHeight === 'none') \n",
                "    this.style.maxHeight = '100px';\n",
                "else\n",
                "    this.style.maxHeight = 'none'; \n",
                "\">- : int = 84\n",
                "</pre>"
              ],
              "output_type": "pyout",
              "prompt_number": 16,
              "metadata": {}
            }
          ],
          "input": [
            "let f x = x+1;;  (* global definition *)\n",
            "\n",
            "f 17;;\n",
            "\n",
            "let g y = 2*y in   (* local definition *)\n",
            "  g 42\n",
            ";;"
          ],
          "metadata": {},
          "cell_type": "code",
          "prompt_number": 16,
          "language": "python",
          "collapsed": false
        },
        {
          "outputs": [
            {
              "html": [
                "<pre style=\"color:red;max-height:100px;overflow:hidden\" \n",
                "onclick=\"\n",
                "if (this.style.maxHeight === 'none') \n",
                "    this.style.maxHeight = '100px';\n",
                "else\n",
                "    this.style.maxHeight = 'none'; \n",
                "\">File &quot;[17]&quot;, line 1, characters 0-1:\n",
                "Error: This function has type int -&gt; int\n",
                "       It is applied to too many arguments; maybe you forgot a `;'.\n",
                "Characters 0-1:\n",
                "  f f 1;;\n",
                "  ^\n",
                "</pre>"
              ],
              "output_type": "pyout",
              "prompt_number": 17,
              "metadata": {}
            }
          ],
          "input": [
            "f f 1;;"
          ],
          "metadata": {},
          "cell_type": "code",
          "prompt_number": 17,
          "language": "python",
          "collapsed": false
        },
        {
          "outputs": [
            {
              "html": [
                "<pre style=\"color:slategray;max-height:100px;overflow:hidden\" \n",
                "onclick=\"\n",
                "if (this.style.maxHeight === 'none') \n",
                "    this.style.maxHeight = '100px';\n",
                "else\n",
                "    this.style.maxHeight = 'none'; \n",
                "\">- : int = 3\n",
                "</pre>"
              ],
              "output_type": "pyout",
              "prompt_number": 18,
              "metadata": {}
            }
          ],
          "input": [
            "f (f 1);;"
          ],
          "metadata": {},
          "cell_type": "code",
          "prompt_number": 18,
          "language": "python",
          "collapsed": false
        },
        {
          "source": [
            "#### Lexical scoping\n",
            "\n",
            "- __Lexical scoping:__ Identifier used in the definition of a function refers to the identifier visible at the moment of function definition\n",
            "- __Dynamic scoping:__ Visible at the moment of function invocation"
          ],
          "metadata": {},
          "cell_type": "markdown"
        },
        {
          "outputs": [
            {
              "text": [
                "File \"[22]\", line 4, characters 8-9:\n",
                "Warning 26: unused variable f.\n"
              ],
              "output_type": "stream",
              "stream": "stderr"
            },
            {
              "html": [
                "<pre style=\"color:slategray;max-height:100px;overflow:hidden\" \n",
                "onclick=\"\n",
                "if (this.style.maxHeight === 'none') \n",
                "    this.style.maxHeight = '100px';\n",
                "else\n",
                "    this.style.maxHeight = 'none'; \n",
                "\">- : int = 7\n",
                "</pre>"
              ],
              "output_type": "pyout",
              "prompt_number": 22,
              "metadata": {}
            },
            {
              "html": [
                "<pre style=\"color:slategray;max-height:100px;overflow:hidden\" \n",
                "onclick=\"\n",
                "if (this.style.maxHeight === 'none') \n",
                "    this.style.maxHeight = '100px';\n",
                "else\n",
                "    this.style.maxHeight = 'none'; \n",
                "\">val f : int -&gt; int = &lt;fun&gt;\n",
                "</pre>"
              ],
              "output_type": "pyout",
              "prompt_number": 22,
              "metadata": {}
            },
            {
              "html": [
                "<pre style=\"color:slategray;max-height:100px;overflow:hidden\" \n",
                "onclick=\"\n",
                "if (this.style.maxHeight === 'none') \n",
                "    this.style.maxHeight = '100px';\n",
                "else\n",
                "    this.style.maxHeight = 'none'; \n",
                "\">val g : int -&gt; int = &lt;fun&gt;\n",
                "</pre>"
              ],
              "output_type": "pyout",
              "prompt_number": 22,
              "metadata": {}
            },
            {
              "html": [
                "<pre style=\"color:slategray;max-height:100px;overflow:hidden\" \n",
                "onclick=\"\n",
                "if (this.style.maxHeight === 'none') \n",
                "    this.style.maxHeight = '100px';\n",
                "else\n",
                "    this.style.maxHeight = 'none'; \n",
                "\">val f : int -&gt; int = &lt;fun&gt;\n",
                "</pre>"
              ],
              "output_type": "pyout",
              "prompt_number": 22,
              "metadata": {}
            },
            {
              "html": [
                "<pre style=\"color:slategray;max-height:100px;overflow:hidden\" \n",
                "onclick=\"\n",
                "if (this.style.maxHeight === 'none') \n",
                "    this.style.maxHeight = '100px';\n",
                "else\n",
                "    this.style.maxHeight = 'none'; \n",
                "\">- : int = 7\n",
                "</pre>"
              ],
              "output_type": "pyout",
              "prompt_number": 22,
              "metadata": {}
            }
          ],
          "input": [
            "(* with local definition *)\n",
            "let f x = x+1 in\n",
            "  let g y = f (f y) in\n",
            "    let f x = 2*x in\n",
            "      g 5\n",
            ";;\n",
            "\n",
            "(* with global definitions *)\n",
            "let f x = x+1;;\n",
            "let g y = f (f y);;\n",
            "let f x = 2*x;;\n",
            "g 5;;"
          ],
          "metadata": {},
          "cell_type": "code",
          "prompt_number": 22,
          "language": "python",
          "collapsed": false
        },
        {
          "source": [
            "#### Identifiers are not variables\n",
            "\n",
            "- An identifier may be hidden by a new definition for the same name\n",
            "- Not to be confused with _changing value of a variable_\n",
            "- Static binding can give us indirect access to an otherwise hidden identifier"
          ],
          "metadata": {},
          "cell_type": "markdown"
        },
        {
          "outputs": [
            {
              "html": [
                "<pre style=\"color:slategray;max-height:100px;overflow:hidden\" \n",
                "onclick=\"\n",
                "if (this.style.maxHeight === 'none') \n",
                "    this.style.maxHeight = '100px';\n",
                "else\n",
                "    this.style.maxHeight = 'none'; \n",
                "\">val a : int = 1\n",
                "</pre>"
              ],
              "output_type": "pyout",
              "prompt_number": 34,
              "metadata": {}
            },
            {
              "html": [
                "<pre style=\"color:slategray;max-height:100px;overflow:hidden\" \n",
                "onclick=\"\n",
                "if (this.style.maxHeight === 'none') \n",
                "    this.style.maxHeight = '100px';\n",
                "else\n",
                "    this.style.maxHeight = 'none'; \n",
                "\">val f : int -&gt; int = &lt;fun&gt;\n",
                "</pre>"
              ],
              "output_type": "pyout",
              "prompt_number": 34,
              "metadata": {}
            },
            {
              "html": [
                "<pre style=\"color:slategray;max-height:100px;overflow:hidden\" \n",
                "onclick=\"\n",
                "if (this.style.maxHeight === 'none') \n",
                "    this.style.maxHeight = '100px';\n",
                "else\n",
                "    this.style.maxHeight = 'none'; \n",
                "\">- : int = 3\n",
                "</pre>"
              ],
              "output_type": "pyout",
              "prompt_number": 34,
              "metadata": {}
            },
            {
              "html": [
                "<pre style=\"color:slategray;max-height:100px;overflow:hidden\" \n",
                "onclick=\"\n",
                "if (this.style.maxHeight === 'none') \n",
                "    this.style.maxHeight = '100px';\n",
                "else\n",
                "    this.style.maxHeight = 'none'; \n",
                "\">val a : int = 73\n",
                "</pre>"
              ],
              "output_type": "pyout",
              "prompt_number": 34,
              "metadata": {}
            },
            {
              "html": [
                "<pre style=\"color:slategray;max-height:100px;overflow:hidden\" \n",
                "onclick=\"\n",
                "if (this.style.maxHeight === 'none') \n",
                "    this.style.maxHeight = '100px';\n",
                "else\n",
                "    this.style.maxHeight = 'none'; \n",
                "\">- : int = 3\n",
                "</pre>"
              ],
              "output_type": "pyout",
              "prompt_number": 34,
              "metadata": {}
            }
          ],
          "input": [
            "(* Lexical scoping *)\n",
            "let a = 1;;\n",
            "let f x = x+a;;\n",
            "f 2;;\n",
            "\n",
            "let a = 73;;\n",
            "f 2;;"
          ],
          "metadata": {},
          "cell_type": "code",
          "prompt_number": 34,
          "language": "python",
          "collapsed": false
        },
        {
          "source": [
            "#### Exercise: Functions"
          ],
          "metadata": {},
          "cell_type": "markdown"
        },
        {
          "outputs": [
            {
              "html": [
                "<pre style=\"color:slategray;max-height:100px;overflow:hidden\" \n",
                "onclick=\"\n",
                "if (this.style.maxHeight === 'none') \n",
                "    this.style.maxHeight = '100px';\n",
                "else\n",
                "    this.style.maxHeight = 'none'; \n",
                "\">val multiple_of : int -&gt; int -&gt; bool = &lt;fun&gt;\n",
                "</pre>"
              ],
              "output_type": "pyout",
              "prompt_number": 1,
              "metadata": {}
            },
            {
              "html": [
                "<pre style=\"color:slategray;max-height:100px;overflow:hidden\" \n",
                "onclick=\"\n",
                "if (this.style.maxHeight === 'none') \n",
                "    this.style.maxHeight = '100px';\n",
                "else\n",
                "    this.style.maxHeight = 'none'; \n",
                "\">- : bool = false\n",
                "</pre>"
              ],
              "output_type": "pyout",
              "prompt_number": 1,
              "metadata": {}
            },
            {
              "html": [
                "<pre style=\"color:slategray;max-height:100px;overflow:hidden\" \n",
                "onclick=\"\n",
                "if (this.style.maxHeight === 'none') \n",
                "    this.style.maxHeight = '100px';\n",
                "else\n",
                "    this.style.maxHeight = 'none'; \n",
                "\">val integer_square_root : int -&gt; int = &lt;fun&gt;\n",
                "</pre>"
              ],
              "output_type": "pyout",
              "prompt_number": 1,
              "metadata": {}
            },
            {
              "html": [
                "<pre style=\"color:slategray;max-height:100px;overflow:hidden\" \n",
                "onclick=\"\n",
                "if (this.style.maxHeight === 'none') \n",
                "    this.style.maxHeight = '100px';\n",
                "else\n",
                "    this.style.maxHeight = 'none'; \n",
                "\">- : int = 4\n",
                "</pre>"
              ],
              "output_type": "pyout",
              "prompt_number": 1,
              "metadata": {}
            }
          ],
          "input": [
            "(*\n",
            " * Simple functions: integer\n",
            " *)\n",
            " \n",
            "let multiple_of n d =\n",
            "  if n mod d = 0 then true else false\n",
            ";;\n",
            "\n",
            "multiple_of 2 10;;\n",
            "\n",
            "let integer_square_root n =\n",
            "  int_of_float (sqrt (float_of_int n))\n",
            ";;\n",
            "\n",
            "integer_square_root 16;;"
          ],
          "metadata": {},
          "cell_type": "code",
          "prompt_number": 1,
          "language": "python",
          "collapsed": false
        },
        {
          "outputs": [
            {
              "html": [
                "<pre style=\"color:slategray;max-height:100px;overflow:hidden\" \n",
                "onclick=\"\n",
                "if (this.style.maxHeight === 'none') \n",
                "    this.style.maxHeight = '100px';\n",
                "else\n",
                "    this.style.maxHeight = 'none'; \n",
                "\">val last_character : string -&gt; char = &lt;fun&gt;\n",
                "</pre>"
              ],
              "output_type": "pyout",
              "prompt_number": 4,
              "metadata": {}
            },
            {
              "html": [
                "<pre style=\"color:slategray;max-height:100px;overflow:hidden\" \n",
                "onclick=\"\n",
                "if (this.style.maxHeight === 'none') \n",
                "    this.style.maxHeight = '100px';\n",
                "else\n",
                "    this.style.maxHeight = 'none'; \n",
                "\">- : char = 'I'\n",
                "</pre>"
              ],
              "output_type": "pyout",
              "prompt_number": 4,
              "metadata": {}
            },
            {
              "html": [
                "<pre style=\"color:slategray;max-height:100px;overflow:hidden\" \n",
                "onclick=\"\n",
                "if (this.style.maxHeight === 'none') \n",
                "    this.style.maxHeight = '100px';\n",
                "else\n",
                "    this.style.maxHeight = 'none'; \n",
                "\">val string_of_bool : bool -&gt; string = &lt;fun&gt;\n",
                "</pre>"
              ],
              "output_type": "pyout",
              "prompt_number": 4,
              "metadata": {}
            },
            {
              "html": [
                "<pre style=\"color:slategray;max-height:100px;overflow:hidden\" \n",
                "onclick=\"\n",
                "if (this.style.maxHeight === 'none') \n",
                "    this.style.maxHeight = '100px';\n",
                "else\n",
                "    this.style.maxHeight = 'none'; \n",
                "\">- : string = &quot;false&quot;\n",
                "</pre>"
              ],
              "output_type": "pyout",
              "prompt_number": 4,
              "metadata": {}
            }
          ],
          "input": [
            "(*\n",
            " * Simple functions: string\n",
            " *)\n",
            " \n",
            "let last_character str =\n",
            "  String.get str ((String.length str)-1)\n",
            ";;\n",
            "\n",
            "last_character \"ANI\";;\n",
            "\n",
            "let string_of_bool truth =\n",
            "  if truth then \"true\" else \"false\"\n",
            ";;\n",
            "\n",
            "string_of_bool false;;"
          ],
          "metadata": {},
          "cell_type": "code",
          "prompt_number": 4,
          "language": "python",
          "collapsed": false
        },
        {
          "source": [
            "### Recursion\n",
            "\n",
            "#### Recursive functions\n",
            "\n",
            "- Functions that are defined by calling itself on smaller arguments\n",
            "- Natural on recursively defined data structures\n",
            "- Example: $ fact(n) = \\begin{cases} 1 & if x=1 \\\\ n \\times fact(n-1) & if x>1 \\end{cases}$\n",
            "\n",
            "#### Recursive definitions in OCaml\n",
            "\n",
            "- A priory, the use of `f` in a definition of `f` refers to the previous value of `f`\n",
            "- The keyword __rec__ changes this, and allows us to define a function by recursion"
          ],
          "metadata": {},
          "cell_type": "markdown"
        },
        {
          "outputs": [
            {
              "html": [
                "<pre style=\"color:slategray;max-height:100px;overflow:hidden\" \n",
                "onclick=\"\n",
                "if (this.style.maxHeight === 'none') \n",
                "    this.style.maxHeight = '100px';\n",
                "else\n",
                "    this.style.maxHeight = 'none'; \n",
                "\">val x : int = 1\n",
                "</pre>"
              ],
              "output_type": "pyout",
              "prompt_number": 36,
              "metadata": {}
            },
            {
              "html": [
                "<pre style=\"color:slategray;max-height:100px;overflow:hidden\" \n",
                "onclick=\"\n",
                "if (this.style.maxHeight === 'none') \n",
                "    this.style.maxHeight = '100px';\n",
                "else\n",
                "    this.style.maxHeight = 'none'; \n",
                "\">val x : int = 2\n",
                "</pre>"
              ],
              "output_type": "pyout",
              "prompt_number": 36,
              "metadata": {}
            },
            {
              "html": [
                "<pre style=\"color:slategray;max-height:100px;overflow:hidden\" \n",
                "onclick=\"\n",
                "if (this.style.maxHeight === 'none') \n",
                "    this.style.maxHeight = '100px';\n",
                "else\n",
                "    this.style.maxHeight = 'none'; \n",
                "\">- : int = 2\n",
                "</pre>"
              ],
              "output_type": "pyout",
              "prompt_number": 36,
              "metadata": {}
            },
            {
              "html": [
                "<pre style=\"color:slategray;max-height:100px;overflow:hidden\" \n",
                "onclick=\"\n",
                "if (this.style.maxHeight === 'none') \n",
                "    this.style.maxHeight = '100px';\n",
                "else\n",
                "    this.style.maxHeight = 'none'; \n",
                "\">val f : int -&gt; int = &lt;fun&gt;\n",
                "</pre>"
              ],
              "output_type": "pyout",
              "prompt_number": 36,
              "metadata": {}
            },
            {
              "html": [
                "<pre style=\"color:slategray;max-height:100px;overflow:hidden\" \n",
                "onclick=\"\n",
                "if (this.style.maxHeight === 'none') \n",
                "    this.style.maxHeight = '100px';\n",
                "else\n",
                "    this.style.maxHeight = 'none'; \n",
                "\">val f : int -&gt; int = &lt;fun&gt;\n",
                "</pre>"
              ],
              "output_type": "pyout",
              "prompt_number": 36,
              "metadata": {}
            },
            {
              "html": [
                "<pre style=\"color:slategray;max-height:100px;overflow:hidden\" \n",
                "onclick=\"\n",
                "if (this.style.maxHeight === 'none') \n",
                "    this.style.maxHeight = '100px';\n",
                "else\n",
                "    this.style.maxHeight = 'none'; \n",
                "\">- : int = 3\n",
                "</pre>"
              ],
              "output_type": "pyout",
              "prompt_number": 36,
              "metadata": {}
            },
            {
              "html": [
                "<pre style=\"color:slategray;max-height:100px;overflow:hidden\" \n",
                "onclick=\"\n",
                "if (this.style.maxHeight === 'none') \n",
                "    this.style.maxHeight = '100px';\n",
                "else\n",
                "    this.style.maxHeight = 'none'; \n",
                "\">val fact : int -&gt; int = &lt;fun&gt;\n",
                "</pre>"
              ],
              "output_type": "pyout",
              "prompt_number": 36,
              "metadata": {}
            },
            {
              "html": [
                "<pre style=\"color:slategray;max-height:100px;overflow:hidden\" \n",
                "onclick=\"\n",
                "if (this.style.maxHeight === 'none') \n",
                "    this.style.maxHeight = '100px';\n",
                "else\n",
                "    this.style.maxHeight = 'none'; \n",
                "\">- : int = 3628800\n",
                "</pre>"
              ],
              "output_type": "pyout",
              "prompt_number": 36,
              "metadata": {}
            }
          ],
          "input": [
            "(* Stupid recursion *)\n",
            "let x = 1;;\n",
            "let x = x+1;;\n",
            "x;;\n",
            "\n",
            "let f x = x+1;;\n",
            "let f x = f (f x);;\n",
            "f 1;;\n",
            "\n",
            "(* Recursive recursion *)\n",
            "let rec fact n =\n",
            "  if n <= 1 then 1 else n*fact(n-1)\n",
            ";;\n",
            "\n",
            "fact 10;;"
          ],
          "metadata": {},
          "cell_type": "code",
          "prompt_number": 36,
          "language": "python",
          "collapsed": false
        },
        {
          "source": [
            "#### Mutually recursive functions\n",
            "\n",
            "- Generalization of direct recursion\n",
            "- Several functions are defined by calling each other on smaller arguments\n",
            "- Natural on mutually recursive data structures"
          ],
          "metadata": {},
          "cell_type": "markdown"
        },
        {
          "outputs": [
            {
              "html": [
                "<pre style=\"color:slategray;max-height:100px;overflow:hidden\" \n",
                "onclick=\"\n",
                "if (this.style.maxHeight === 'none') \n",
                "    this.style.maxHeight = '100px';\n",
                "else\n",
                "    this.style.maxHeight = 'none'; \n",
                "\">val even : int -&gt; bool = &lt;fun&gt;\n",
                "val odd : int -&gt; bool = &lt;fun&gt;\n",
                "</pre>"
              ],
              "output_type": "pyout",
              "prompt_number": 40,
              "metadata": {}
            },
            {
              "html": [
                "<pre style=\"color:slategray;max-height:100px;overflow:hidden\" \n",
                "onclick=\"\n",
                "if (this.style.maxHeight === 'none') \n",
                "    this.style.maxHeight = '100px';\n",
                "else\n",
                "    this.style.maxHeight = 'none'; \n",
                "\">- : bool = false\n",
                "</pre>"
              ],
              "output_type": "pyout",
              "prompt_number": 40,
              "metadata": {}
            },
            {
              "html": [
                "<pre style=\"color:slategray;max-height:100px;overflow:hidden\" \n",
                "onclick=\"\n",
                "if (this.style.maxHeight === 'none') \n",
                "    this.style.maxHeight = '100px';\n",
                "else\n",
                "    this.style.maxHeight = 'none'; \n",
                "\">- : bool = true\n",
                "</pre>"
              ],
              "output_type": "pyout",
              "prompt_number": 40,
              "metadata": {}
            },
            {
              "html": [
                "<pre style=\"color:slategray;max-height:100px;overflow:hidden\" \n",
                "onclick=\"\n",
                "if (this.style.maxHeight === 'none') \n",
                "    this.style.maxHeight = '100px';\n",
                "else\n",
                "    this.style.maxHeight = 'none'; \n",
                "\">- : bool = false\n",
                "</pre>"
              ],
              "output_type": "pyout",
              "prompt_number": 40,
              "metadata": {}
            },
            {
              "html": [
                "<pre style=\"color:slategray;max-height:100px;overflow:hidden\" \n",
                "onclick=\"\n",
                "if (this.style.maxHeight === 'none') \n",
                "    this.style.maxHeight = '100px';\n",
                "else\n",
                "    this.style.maxHeight = 'none'; \n",
                "\">- : bool = true\n",
                "</pre>"
              ],
              "output_type": "pyout",
              "prompt_number": 40,
              "metadata": {}
            }
          ],
          "input": [
            "let rec even x =\n",
            "  if x=0 then true else odd(x-1)\n",
            "and\n",
            "odd x =\n",
            "  if x=0 then false else even(x-1)\n",
            ";;\n",
            "\n",
            "even 17;;\n",
            "even 24;;\n",
            "odd 10;;\n",
            "odd 15;;"
          ],
          "metadata": {},
          "cell_type": "code",
          "prompt_number": 40,
          "language": "python",
          "collapsed": false
        },
        {
          "source": [
            "#### Exercise: Recursion"
          ],
          "metadata": {},
          "cell_type": "markdown"
        },
        {
          "outputs": [
            {
              "html": [
                "<pre style=\"color:slategray;max-height:100px;overflow:hidden\" \n",
                "onclick=\"\n",
                "if (this.style.maxHeight === 'none') \n",
                "    this.style.maxHeight = '100px';\n",
                "else\n",
                "    this.style.maxHeight = 'none'; \n",
                "\">val gcd : int -&gt; int -&gt; int = &lt;fun&gt;\n",
                "</pre>"
              ],
              "output_type": "pyout",
              "prompt_number": 26,
              "metadata": {}
            },
            {
              "html": [
                "<pre style=\"color:slategray;max-height:100px;overflow:hidden\" \n",
                "onclick=\"\n",
                "if (this.style.maxHeight === 'none') \n",
                "    this.style.maxHeight = '100px';\n",
                "else\n",
                "    this.style.maxHeight = 'none'; \n",
                "\">- : int = 7\n",
                "</pre>"
              ],
              "output_type": "pyout",
              "prompt_number": 26,
              "metadata": {}
            },
            {
              "html": [
                "<pre style=\"color:slategray;max-height:100px;overflow:hidden\" \n",
                "onclick=\"\n",
                "if (this.style.maxHeight === 'none') \n",
                "    this.style.maxHeight = '100px';\n",
                "else\n",
                "    this.style.maxHeight = 'none'; \n",
                "\">val multiple_of : int -&gt; int -&gt; bool = &lt;fun&gt;\n",
                "</pre>"
              ],
              "output_type": "pyout",
              "prompt_number": 26,
              "metadata": {}
            },
            {
              "html": [
                "<pre style=\"color:slategray;max-height:100px;overflow:hidden\" \n",
                "onclick=\"\n",
                "if (this.style.maxHeight === 'none') \n",
                "    this.style.maxHeight = '100px';\n",
                "else\n",
                "    this.style.maxHeight = 'none'; \n",
                "\">- : bool = true\n",
                "</pre>"
              ],
              "output_type": "pyout",
              "prompt_number": 26,
              "metadata": {}
            },
            {
              "html": [
                "<pre style=\"color:slategray;max-height:100px;overflow:hidden\" \n",
                "onclick=\"\n",
                "if (this.style.maxHeight === 'none') \n",
                "    this.style.maxHeight = '100px';\n",
                "else\n",
                "    this.style.maxHeight = 'none'; \n",
                "\">val multiple_upto : int -&gt; int -&gt; bool = &lt;fun&gt;\n",
                "</pre>"
              ],
              "output_type": "pyout",
              "prompt_number": 26,
              "metadata": {}
            },
            {
              "html": [
                "<pre style=\"color:slategray;max-height:100px;overflow:hidden\" \n",
                "onclick=\"\n",
                "if (this.style.maxHeight === 'none') \n",
                "    this.style.maxHeight = '100px';\n",
                "else\n",
                "    this.style.maxHeight = 'none'; \n",
                "\">- : bool = false\n",
                "</pre>"
              ],
              "output_type": "pyout",
              "prompt_number": 26,
              "metadata": {}
            },
            {
              "html": [
                "<pre style=\"color:slategray;max-height:100px;overflow:hidden\" \n",
                "onclick=\"\n",
                "if (this.style.maxHeight === 'none') \n",
                "    this.style.maxHeight = '100px';\n",
                "else\n",
                "    this.style.maxHeight = 'none'; \n",
                "\">val is_prime : int -&gt; bool = &lt;fun&gt;\n",
                "</pre>"
              ],
              "output_type": "pyout",
              "prompt_number": 26,
              "metadata": {}
            },
            {
              "html": [
                "<pre style=\"color:slategray;max-height:100px;overflow:hidden\" \n",
                "onclick=\"\n",
                "if (this.style.maxHeight === 'none') \n",
                "    this.style.maxHeight = '100px';\n",
                "else\n",
                "    this.style.maxHeight = 'none'; \n",
                "\">- : bool = true\n",
                "</pre>"
              ],
              "output_type": "pyout",
              "prompt_number": 26,
              "metadata": {}
            },
            {
              "html": [
                "<pre style=\"color:slategray;max-height:100px;overflow:hidden\" \n",
                "onclick=\"\n",
                "if (this.style.maxHeight === 'none') \n",
                "    this.style.maxHeight = '100px';\n",
                "else\n",
                "    this.style.maxHeight = 'none'; \n",
                "\">- : bool = false\n",
                "</pre>"
              ],
              "output_type": "pyout",
              "prompt_number": 26,
              "metadata": {}
            }
          ],
          "input": [
            "(*\n",
            " * Greatest Common Divisor\n",
            " *)\n",
            " \n",
            "let rec gcd m n =\n",
            "  if n=0\n",
            "  then\n",
            "    m\n",
            "  else\n",
            "    gcd n (m mod n)\n",
            ";;\n",
            "\n",
            "gcd 35 42;;\n",
            "\n",
            "(*\n",
            " * Multiple of\n",
            " *)\n",
            " \n",
            "let multiple_of n d = n mod d = 0;;\n",
            "\n",
            "multiple_of 10 2;;\n",
            "\n",
            "(*\n",
            " * Multiple upto: int -> int -> bool\n",
            " * Takes two non-negative integers n and r, and tells whether n admits\n",
            " * at least one divisor between 2 and r, inclusive\n",
            " *)\n",
            " \n",
            "let rec multiple_upto n r =\n",
            "  if r=1\n",
            "  then\n",
            "    false\n",
            "  else\n",
            "    if multiple_of n r\n",
            "    then\n",
            "      true\n",
            "    else\n",
            "      multiple_upto n (r-1)\n",
            ";;\n",
            "\n",
            "multiple_upto 7 6;;\n",
            "\n",
            "(*\n",
            " * Is Prime?\n",
            " *)\n",
            "\n",
            "let is_prime n =\n",
            "  not (multiple_upto n (n-1))\n",
            ";;\n",
            "\n",
            "is_prime 37;;\n",
            "is_prime 16;;"
          ],
          "metadata": {},
          "cell_type": "code",
          "prompt_number": 26,
          "language": "python",
          "collapsed": false
        },
        {
          "outputs": [
            {
              "html": [
                "<pre style=\"color:slategray;max-height:100px;overflow:hidden\" \n",
                "onclick=\"\n",
                "if (this.style.maxHeight === 'none') \n",
                "    this.style.maxHeight = '100px';\n",
                "else\n",
                "    this.style.maxHeight = 'none'; \n",
                "\">val is_prime : int -&gt; bool = &lt;fun&gt;\n",
                "</pre>"
              ],
              "output_type": "pyout",
              "prompt_number": 27,
              "metadata": {}
            },
            {
              "html": [
                "<pre style=\"color:slategray;max-height:100px;overflow:hidden\" \n",
                "onclick=\"\n",
                "if (this.style.maxHeight === 'none') \n",
                "    this.style.maxHeight = '100px';\n",
                "else\n",
                "    this.style.maxHeight = 'none'; \n",
                "\">- : bool = true\n",
                "</pre>"
              ],
              "output_type": "pyout",
              "prompt_number": 27,
              "metadata": {}
            }
          ],
          "input": [
            "(*\n",
            " * Consolidated is_prime function\n",
            " *)\n",
            "\n",
            "let is_prime n =\n",
            "  let multiple_of n d =\n",
            "    n mod d = 0\n",
            "  in\n",
            "  let rec multiple_upto n r =\n",
            "    if r=1\n",
            "    then\n",
            "      false\n",
            "    else\n",
            "      if multiple_of n r\n",
            "      then\n",
            "        true\n",
            "      else\n",
            "        multiple_upto n (r-1)\n",
            "  in\n",
            "  not (multiple_upto n (n-1))\n",
            ";;\n",
            "      \n",
            "is_prime 17;;"
          ],
          "metadata": {},
          "cell_type": "code",
          "prompt_number": 27,
          "language": "python",
          "collapsed": false
        },
        {
          "outputs": [
            {
              "html": [
                "<pre style=\"color:slategray;max-height:100px;overflow:hidden\" \n",
                "onclick=\"\n",
                "if (this.style.maxHeight === 'none') \n",
                "    this.style.maxHeight = '100px';\n",
                "else\n",
                "    this.style.maxHeight = 'none'; \n",
                "\">val multiple_upto : int -&gt; int -&gt; bool = &lt;fun&gt;\n",
                "</pre>"
              ],
              "output_type": "pyout",
              "prompt_number": 35,
              "metadata": {}
            },
            {
              "html": [
                "<pre style=\"color:slategray;max-height:100px;overflow:hidden\" \n",
                "onclick=\"\n",
                "if (this.style.maxHeight === 'none') \n",
                "    this.style.maxHeight = '100px';\n",
                "else\n",
                "    this.style.maxHeight = 'none'; \n",
                "\">- : bool = false\n",
                "</pre>"
              ],
              "output_type": "pyout",
              "prompt_number": 35,
              "metadata": {}
            },
            {
              "html": [
                "<pre style=\"color:slategray;max-height:100px;overflow:hidden\" \n",
                "onclick=\"\n",
                "if (this.style.maxHeight === 'none') \n",
                "    this.style.maxHeight = '100px';\n",
                "else\n",
                "    this.style.maxHeight = 'none'; \n",
                "\">- : bool = true\n",
                "</pre>"
              ],
              "output_type": "pyout",
              "prompt_number": 35,
              "metadata": {}
            }
          ],
          "input": [
            "(*\n",
            " * Alternate version of multiple upto\n",
            " * The function counts till root of the number for finding multiples\n",
            " *)\n",
            "\n",
            "let multiple_upto n r =\n",
            "  let rec aux idx =\n",
            "    if idx > int_of_float (sqrt (float_of_int r))\n",
            "    then\n",
            "      false\n",
            "    else\n",
            "      if n mod idx = 0\n",
            "      then\n",
            "        true\n",
            "      else\n",
            "        aux (idx+1)\n",
            "  in\n",
            "  aux 2\n",
            ";;\n",
            "\n",
            "multiple_upto 7 6;;\n",
            "multiple_upto 8 7;;"
          ],
          "metadata": {},
          "cell_type": "code",
          "prompt_number": 35,
          "language": "python",
          "collapsed": false
        }
      ],
      "metadata": {}
    }
  ],
  "metadata": { "name": "", "language": "ocaml" },
  "nbformat": 3,
  "nbformat_minor": 0
}