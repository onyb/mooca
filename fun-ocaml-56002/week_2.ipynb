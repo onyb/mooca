{
  "worksheets": [
    {
      "cells": [
        {
          "source": [
            "## Basic Data structures\n",
            "\n",
            "### User-defined types\n",
            "\n",
            "#### Types as documentation\n",
            "\n",
            "- A value of a primitive type can be used to encode some specific data\n",
            "- Example: `day = {0, 1, 2, 3, 4, 5, 6} C int`\n",
            "- A type identifier carries an informal invariant\n",
            "- Example: An integer `x` is a valid _day_ if $0 \\le x \\le 6$\n",
            "- Writing `is_week_end: day -> bool` informally means that integers between 0 and 6 are the only valid inputs for this function\n",
            "- Type annotation often serve as code documentation\n",
            "- Type annotations have no impact on program execution, i.e. they are __static__."
          ],
          "metadata": {},
          "cell_type": "markdown"
        },
        {
          "outputs": [
            {
              "html": [
                "<pre style=\"color:slategray;max-height:100px;overflow:hidden\" \n",
                "onclick=\"\n",
                "if (this.style.maxHeight === 'none') \n",
                "    this.style.maxHeight = '100px';\n",
                "else\n",
                "    this.style.maxHeight = 'none'; \n",
                "\">type color = int\n",
                "</pre>"
              ],
              "output_type": "pyout",
              "prompt_number": 2,
              "metadata": {}
            },
            {
              "html": [
                "<pre style=\"color:slategray;max-height:100px;overflow:hidden\" \n",
                "onclick=\"\n",
                "if (this.style.maxHeight === 'none') \n",
                "    this.style.maxHeight = '100px';\n",
                "else\n",
                "    this.style.maxHeight = 'none'; \n",
                "\">val red : color = 0\n",
                "</pre>"
              ],
              "output_type": "pyout",
              "prompt_number": 2,
              "metadata": {}
            },
            {
              "html": [
                "<pre style=\"color:slategray;max-height:100px;overflow:hidden\" \n",
                "onclick=\"\n",
                "if (this.style.maxHeight === 'none') \n",
                "    this.style.maxHeight = '100px';\n",
                "else\n",
                "    this.style.maxHeight = 'none'; \n",
                "\">val white : color = 1\n",
                "</pre>"
              ],
              "output_type": "pyout",
              "prompt_number": 2,
              "metadata": {}
            },
            {
              "html": [
                "<pre style=\"color:slategray;max-height:100px;overflow:hidden\" \n",
                "onclick=\"\n",
                "if (this.style.maxHeight === 'none') \n",
                "    this.style.maxHeight = '100px';\n",
                "else\n",
                "    this.style.maxHeight = 'none'; \n",
                "\">val blue : color = 2\n",
                "</pre>"
              ],
              "output_type": "pyout",
              "prompt_number": 2,
              "metadata": {}
            }
          ],
          "input": [
            "type color = int;;\n",
            "let red: color = 0;;\n",
            "let white: color = 1;;\n",
            "let blue: color = 2;;"
          ],
          "metadata": {},
          "cell_type": "code",
          "prompt_number": 2,
          "language": "python",
          "collapsed": false
        },
        {
          "outputs": [
            {
              "html": [
                "<pre style=\"color:slategray;max-height:100px;overflow:hidden\" \n",
                "onclick=\"\n",
                "if (this.style.maxHeight === 'none') \n",
                "    this.style.maxHeight = '100px';\n",
                "else\n",
                "    this.style.maxHeight = 'none'; \n",
                "\">type positive = int\n",
                "</pre>"
              ],
              "output_type": "pyout",
              "prompt_number": 11,
              "metadata": {}
            },
            {
              "html": [
                "<pre style=\"color:slategray;max-height:100px;overflow:hidden\" \n",
                "onclick=\"\n",
                "if (this.style.maxHeight === 'none') \n",
                "    this.style.maxHeight = '100px';\n",
                "else\n",
                "    this.style.maxHeight = 'none'; \n",
                "\">val abs : int -&gt; positive = &lt;fun&gt;\n",
                "</pre>"
              ],
              "output_type": "pyout",
              "prompt_number": 11,
              "metadata": {}
            },
            {
              "html": [
                "<pre style=\"color:slategray;max-height:100px;overflow:hidden\" \n",
                "onclick=\"\n",
                "if (this.style.maxHeight === 'none') \n",
                "    this.style.maxHeight = '100px';\n",
                "else\n",
                "    this.style.maxHeight = 'none'; \n",
                "\">val abs' : int -&gt; positive = &lt;fun&gt;\n",
                "</pre>"
              ],
              "output_type": "pyout",
              "prompt_number": 11,
              "metadata": {}
            }
          ],
          "input": [
            "type positive = int;;\n",
            "\n",
            "let abs (x: int) = (if x<0 then -x else x: positive);;\n",
            "\n",
            "let abs' (x: int): positive = if x<0 then -x else x;;"
          ],
          "metadata": {},
          "cell_type": "code",
          "prompt_number": 11,
          "language": "python",
          "collapsed": false
        },
        {
          "source": [
            "#### Syntax to declare a type\n",
            "\n",
            "- `type some_type_identifier = some_type;;`\n",
            "- `some_type_identifier` is a synonym or abbreviation for `some_type`\n",
            "- A type identifer must start with a lowercase letter"
          ],
          "metadata": {},
          "cell_type": "markdown"
        },
        {
          "source": [
            "#### Syntax to annotate with a type\n",
            "\n",
            "- To annotate an identifier with a type: `let x: some_type = some_expression;;`\n",
            "- To annotate a function argument with a type: `let f (x: some_type) = some_expression;;`\n",
            "- To constrain the return type of a function: `let f x: some_type = some_expression;;`\n",
            "- To constrain the type of an expression: `let f x = (some_expression: some_type);;`"
          ],
          "metadata": {},
          "cell_type": "markdown"
        },
        {
          "source": [
            "#### Type annotations in the machine\n",
            "\n",
            "- Let `type t = int` and `x` be a value of type `t`, then `x` is also of type `int`\n",
            "- Hence, a value of type `t` is represented as a value of type `int` in the machine\n",
            "- It is perfectly okay to redefine a type with some other type\n",
            "- __Pitfalls:__ In REPL, be careful with unintended hiding of type identifiers. The error messages may be hard to understand.\n",
            "\n",
            "#### Limitations of type synonyms\n",
            "\n",
            "- Consider `type positive = int`. The type synonym `positive` provides no more static guarantee about positivity than `int`.\n",
            "- __Example:__ The following code is accepted by the type checker: `let x: positive = -1;;`\n",
            "- OCaml provides many ways to define more precise types."
          ],
          "metadata": {},
          "cell_type": "markdown"
        },
        {
          "source": [
            "### Constructing and observing Tuples\n",
            "\n",
            "#### Composite values\n",
            "\n",
            "- Some values are naturally made of several components\n",
            "- Examples:\n",
            "  - A citizen identification $\\rightarrow$ name, firstname, social security number\n",
            "  - A 2D coordinate $\\rightarrow$ abscissa, ordinate"
          ],
          "metadata": {},
          "cell_type": "markdown"
        },
        {
          "outputs": [
            {
              "html": [
                "<pre style=\"color:slategray;max-height:100px;overflow:hidden\" \n",
                "onclick=\"\n",
                "if (this.style.maxHeight === 'none') \n",
                "    this.style.maxHeight = '100px';\n",
                "else\n",
                "    this.style.maxHeight = 'none'; \n",
                "\">val origin : int * int = (0, 0)\n",
                "</pre>"
              ],
              "output_type": "pyout",
              "prompt_number": 17,
              "metadata": {}
            },
            {
              "html": [
                "<pre style=\"color:slategray;max-height:100px;overflow:hidden\" \n",
                "onclick=\"\n",
                "if (this.style.maxHeight === 'none') \n",
                "    this.style.maxHeight = '100px';\n",
                "else\n",
                "    this.style.maxHeight = 'none'; \n",
                "\">val x_positive_limit : int * int = (4611686018427387903, 0)\n",
                "</pre>"
              ],
              "output_type": "pyout",
              "prompt_number": 17,
              "metadata": {}
            },
            {
              "html": [
                "<pre style=\"color:slategray;max-height:100px;overflow:hidden\" \n",
                "onclick=\"\n",
                "if (this.style.maxHeight === 'none') \n",
                "    this.style.maxHeight = '100px';\n",
                "else\n",
                "    this.style.maxHeight = 'none'; \n",
                "\">val x_negative_limit : int * int = (-4611686018427387904, 0)\n",
                "</pre>"
              ],
              "output_type": "pyout",
              "prompt_number": 17,
              "metadata": {}
            },
            {
              "html": [
                "<pre style=\"color:slategray;max-height:100px;overflow:hidden\" \n",
                "onclick=\"\n",
                "if (this.style.maxHeight === 'none') \n",
                "    this.style.maxHeight = '100px';\n",
                "else\n",
                "    this.style.maxHeight = 'none'; \n",
                "\">type point2D = int * int\n",
                "</pre>"
              ],
              "output_type": "pyout",
              "prompt_number": 17,
              "metadata": {}
            },
            {
              "html": [
                "<pre style=\"color:slategray;max-height:100px;overflow:hidden\" \n",
                "onclick=\"\n",
                "if (this.style.maxHeight === 'none') \n",
                "    this.style.maxHeight = '100px';\n",
                "else\n",
                "    this.style.maxHeight = 'none'; \n",
                "\">val origin : point2D = (0, 0)\n",
                "</pre>"
              ],
              "output_type": "pyout",
              "prompt_number": 17,
              "metadata": {}
            }
          ],
          "input": [
            "let origin = (0, 0);;\n",
            "\n",
            "let x_positive_limit = (max_int, 0);;\n",
            "\n",
            "let x_negative_limit = (min_int, 0);;\n",
            "\n",
            "type point2D = int * int;;\n",
            "let origin: point2D = (0, 0);;"
          ],
          "metadata": {},
          "cell_type": "code",
          "prompt_number": 17,
          "language": "python",
          "collapsed": false
        },
        {
          "source": [
            "#### Syntax for tuple construction\n",
            "\n",
            "- The tuple constructor __`*`__ constructs tuple types: `some_type * ... * some_type`\n",
            "- A tuple is constructed by separating its components with a comma: `some_expr, some_expr, ..., some_expr`\n",
            "- Components of a tuple can be _observed_ by __pattern matching__.\n",
            "\n",
            "#### Pattern matching\n",
            "\n",
            "- Patterns describe how values are observed by the program.\n",
            "- Patterns appear in let-bindings and as function arguments.\n",
            "- A simple way to observe a value is to ignore it using a __wildcard pattern__.\n",
            "- In OCaml, it is not possible to access nth element of a tuple directly. Role of each component of a tuple is determined by its position, and it is easy to get the index wrong -> __Records__!"
          ],
          "metadata": {},
          "cell_type": "markdown"
        },
        {
          "outputs": [
            {
              "html": [
                "<pre style=\"color:slategray;max-height:100px;overflow:hidden\" \n",
                "onclick=\"\n",
                "if (this.style.maxHeight === 'none') \n",
                "    this.style.maxHeight = '100px';\n",
                "else\n",
                "    this.style.maxHeight = 'none'; \n",
                "\">- : int = 18\n",
                "</pre>"
              ],
              "output_type": "pyout",
              "prompt_number": 29,
              "metadata": {}
            },
            {
              "html": [
                "<pre style=\"color:slategray;max-height:100px;overflow:hidden\" \n",
                "onclick=\"\n",
                "if (this.style.maxHeight === 'none') \n",
                "    this.style.maxHeight = '100px';\n",
                "else\n",
                "    this.style.maxHeight = 'none'; \n",
                "\">val a : int * int = (18, 24)\n",
                "</pre>"
              ],
              "output_type": "pyout",
              "prompt_number": 29,
              "metadata": {}
            },
            {
              "html": [
                "<pre style=\"color:slategray;max-height:100px;overflow:hidden\" \n",
                "onclick=\"\n",
                "if (this.style.maxHeight === 'none') \n",
                "    this.style.maxHeight = '100px';\n",
                "else\n",
                "    this.style.maxHeight = 'none'; \n",
                "\">val x : int = 18\n",
                "</pre>"
              ],
              "output_type": "pyout",
              "prompt_number": 29,
              "metadata": {}
            },
            {
              "html": [
                "<pre style=\"color:slategray;max-height:100px;overflow:hidden\" \n",
                "onclick=\"\n",
                "if (this.style.maxHeight === 'none') \n",
                "    this.style.maxHeight = '100px';\n",
                "else\n",
                "    this.style.maxHeight = 'none'; \n",
                "\">val abscissa : 'a * 'b -&gt; 'a = &lt;fun&gt;\n",
                "</pre>"
              ],
              "output_type": "pyout",
              "prompt_number": 29,
              "metadata": {}
            },
            {
              "html": [
                "<pre style=\"color:slategray;max-height:100px;overflow:hidden\" \n",
                "onclick=\"\n",
                "if (this.style.maxHeight === 'none') \n",
                "    this.style.maxHeight = '100px';\n",
                "else\n",
                "    this.style.maxHeight = 'none'; \n",
                "\">val ordinate : 'a * 'b -&gt; 'b = &lt;fun&gt;\n",
                "</pre>"
              ],
              "output_type": "pyout",
              "prompt_number": 29,
              "metadata": {}
            }
          ],
          "input": [
            "let (x, _) = (6*3, 2) in x;; (* observe 6*3 by naming it x, and ignore 2 *)\n",
            "\n",
            "let a = (3*6, 4*6);;\n",
            "\n",
            "let (x, _) = a;;\n",
            "\n",
            "let abscissa (x, _) = x;;\n",
            "let ordinate (_, x) = x;;"
          ],
          "metadata": {},
          "cell_type": "code",
          "prompt_number": 29,
          "language": "python",
          "collapsed": false
        },
        {
          "source": [
            "#### Syntax for tuple patterns\n",
            "\n",
            "- A pattern that matches a tuple has the form: `(some_pattern, ..., some_pattern)`\n",
            "- The number if subpatterns must be equal to the number of tuple components.\n",
            "- An identifier can only occur once in a pattern.\n",
            "\n",
            "#### Tuples in the machine\n",
            "\n",
            "- A tuple is represented by a heap-allocated block\n",
            "- Example: In the definitions, `let p = (1, 2, 3);;` and `let q = (p, 0);;` the `p` in `q` is a pointer to the memory address of tuple `p`.\n",
            "- The program holds a pointer to this block.\n",
            "- The pointer can be shared. Example: `let p = (1, 2, 3);;` and `let q = (p, p);;`\n",
            "\n",
            "#### Structural equality vs Physical equality\n",
            "\n",
            "- In OCaml, the operator __`=`__ implements __structural equality__.\n",
            "- Two values are structurally equal if they have the same content.\n",
            "- The operator __`==`__ implements __physical equality__.\n",
            "- Two values are physically equal if they are stored in the same memory location."
          ],
          "metadata": {},
          "cell_type": "markdown"
        },
        {
          "outputs": [
            {
              "html": [
                "<pre style=\"color:slategray;max-height:100px;overflow:hidden\" \n",
                "onclick=\"\n",
                "if (this.style.maxHeight === 'none') \n",
                "    this.style.maxHeight = '100px';\n",
                "else\n",
                "    this.style.maxHeight = 'none'; \n",
                "\">val x : int * int = (1, 2)\n",
                "</pre>"
              ],
              "output_type": "pyout",
              "prompt_number": 30,
              "metadata": {}
            },
            {
              "html": [
                "<pre style=\"color:slategray;max-height:100px;overflow:hidden\" \n",
                "onclick=\"\n",
                "if (this.style.maxHeight === 'none') \n",
                "    this.style.maxHeight = '100px';\n",
                "else\n",
                "    this.style.maxHeight = 'none'; \n",
                "\">val y : int * int = (1, 2)\n",
                "</pre>"
              ],
              "output_type": "pyout",
              "prompt_number": 30,
              "metadata": {}
            },
            {
              "html": [
                "<pre style=\"color:slategray;max-height:100px;overflow:hidden\" \n",
                "onclick=\"\n",
                "if (this.style.maxHeight === 'none') \n",
                "    this.style.maxHeight = '100px';\n",
                "else\n",
                "    this.style.maxHeight = 'none'; \n",
                "\">val z : int * int = (1, 2)\n",
                "</pre>"
              ],
              "output_type": "pyout",
              "prompt_number": 30,
              "metadata": {}
            },
            {
              "html": [
                "<pre style=\"color:slategray;max-height:100px;overflow:hidden\" \n",
                "onclick=\"\n",
                "if (this.style.maxHeight === 'none') \n",
                "    this.style.maxHeight = '100px';\n",
                "else\n",
                "    this.style.maxHeight = 'none'; \n",
                "\">- : bool = true\n",
                "</pre>"
              ],
              "output_type": "pyout",
              "prompt_number": 30,
              "metadata": {}
            },
            {
              "html": [
                "<pre style=\"color:slategray;max-height:100px;overflow:hidden\" \n",
                "onclick=\"\n",
                "if (this.style.maxHeight === 'none') \n",
                "    this.style.maxHeight = '100px';\n",
                "else\n",
                "    this.style.maxHeight = 'none'; \n",
                "\">- : bool = false\n",
                "</pre>"
              ],
              "output_type": "pyout",
              "prompt_number": 30,
              "metadata": {}
            },
            {
              "html": [
                "<pre style=\"color:slategray;max-height:100px;overflow:hidden\" \n",
                "onclick=\"\n",
                "if (this.style.maxHeight === 'none') \n",
                "    this.style.maxHeight = '100px';\n",
                "else\n",
                "    this.style.maxHeight = 'none'; \n",
                "\">- : bool = true\n",
                "</pre>"
              ],
              "output_type": "pyout",
              "prompt_number": 30,
              "metadata": {}
            }
          ],
          "input": [
            "let x = (1, 2);;\n",
            "let y = (1, 2);;\n",
            "let z = x;;\n",
            "\n",
            "x = y;;\n",
            "x == y;;\n",
            "x == z;;"
          ],
          "metadata": {},
          "cell_type": "code",
          "prompt_number": 30,
          "language": "python",
          "collapsed": false
        },
        {
          "source": [
            "#### Pitfalls: Ill-formed patterns\n",
            "\n",
            "- __Invalid arity:__ $\\rightarrow$ not enough or too much patterns wrt number of components of the tuples.\n",
            "- __Nonlinear patterns:__ $\\rightarrow$ using the same identifier in a pattern\n",
            "- These errors are caight by the compiler\n",
            "- Examples: `let (x, _) = (1, 2, 3);;` and `let (x, x, y) = (1, 2, 3);;`\n",
            "\n",
            "#### Pitfalls: Semantically invalid projections\n",
            "\n",
            "- Definition-by-position is error-prone.\n",
            "- Example, `let abscissa (x, y) = y;;` and `let ordinate (x, y) = x;;` are syntactically correct, but compiler cannot understand that abscissa and ordinate are swapped.\n",
            "- __Records__ will help us avoid such errors."
          ],
          "metadata": {},
          "cell_type": "markdown"
        },
        {
          "outputs": [],
          "input": [],
          "metadata": {},
          "cell_type": "code",
          "language": "python",
          "collapsed": false
        }
      ],
      "metadata": {}
    }
  ],
  "metadata": { "name": "", "language": "ocaml" },
  "nbformat": 3,
  "nbformat_minor": 0
}