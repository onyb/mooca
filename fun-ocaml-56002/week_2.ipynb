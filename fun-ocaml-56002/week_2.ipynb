{
  "worksheets": [
    {
      "cells": [
        {
          "source": [
            "## Basic Data structures\n",
            "\n",
            "### User-defined types\n",
            "\n",
            "#### Types as documentation\n",
            "\n",
            "- A value of a primitive type can be used to encode some specific data\n",
            "- Example: `day = {0, 1, 2, 3, 4, 5, 6} C int`\n",
            "- A type identifier carries an informal invariant\n",
            "- Example: An integer `x` is a valid _day_ if $0 \\le x \\le 6$\n",
            "- Writing `is_week_end: day -> bool` informally means that integers between 0 and 6 are the only valid inputs for this function\n",
            "- Type annotation often serve as code documentation\n",
            "- Type annotations have no impact on program execution, i.e. they are __static__."
          ],
          "metadata": {},
          "cell_type": "markdown"
        },
        {
          "outputs": [
            {
              "html": [
                "<pre style=\"color:slategray;max-height:100px;overflow:hidden\" \n",
                "onclick=\"\n",
                "if (this.style.maxHeight === 'none') \n",
                "    this.style.maxHeight = '100px';\n",
                "else\n",
                "    this.style.maxHeight = 'none'; \n",
                "\">type color = int\n",
                "</pre>"
              ],
              "output_type": "pyout",
              "prompt_number": 2,
              "metadata": {}
            },
            {
              "html": [
                "<pre style=\"color:slategray;max-height:100px;overflow:hidden\" \n",
                "onclick=\"\n",
                "if (this.style.maxHeight === 'none') \n",
                "    this.style.maxHeight = '100px';\n",
                "else\n",
                "    this.style.maxHeight = 'none'; \n",
                "\">val red : color = 0\n",
                "</pre>"
              ],
              "output_type": "pyout",
              "prompt_number": 2,
              "metadata": {}
            },
            {
              "html": [
                "<pre style=\"color:slategray;max-height:100px;overflow:hidden\" \n",
                "onclick=\"\n",
                "if (this.style.maxHeight === 'none') \n",
                "    this.style.maxHeight = '100px';\n",
                "else\n",
                "    this.style.maxHeight = 'none'; \n",
                "\">val white : color = 1\n",
                "</pre>"
              ],
              "output_type": "pyout",
              "prompt_number": 2,
              "metadata": {}
            },
            {
              "html": [
                "<pre style=\"color:slategray;max-height:100px;overflow:hidden\" \n",
                "onclick=\"\n",
                "if (this.style.maxHeight === 'none') \n",
                "    this.style.maxHeight = '100px';\n",
                "else\n",
                "    this.style.maxHeight = 'none'; \n",
                "\">val blue : color = 2\n",
                "</pre>"
              ],
              "output_type": "pyout",
              "prompt_number": 2,
              "metadata": {}
            }
          ],
          "input": [
            "type color = int;;\n",
            "let red: color = 0;;\n",
            "let white: color = 1;;\n",
            "let blue: color = 2;;"
          ],
          "metadata": {},
          "cell_type": "code",
          "prompt_number": 2,
          "language": "python",
          "collapsed": false
        },
        {
          "outputs": [
            {
              "html": [
                "<pre style=\"color:slategray;max-height:100px;overflow:hidden\" \n",
                "onclick=\"\n",
                "if (this.style.maxHeight === 'none') \n",
                "    this.style.maxHeight = '100px';\n",
                "else\n",
                "    this.style.maxHeight = 'none'; \n",
                "\">type positive = int\n",
                "</pre>"
              ],
              "output_type": "pyout",
              "prompt_number": 11,
              "metadata": {}
            },
            {
              "html": [
                "<pre style=\"color:slategray;max-height:100px;overflow:hidden\" \n",
                "onclick=\"\n",
                "if (this.style.maxHeight === 'none') \n",
                "    this.style.maxHeight = '100px';\n",
                "else\n",
                "    this.style.maxHeight = 'none'; \n",
                "\">val abs : int -&gt; positive = &lt;fun&gt;\n",
                "</pre>"
              ],
              "output_type": "pyout",
              "prompt_number": 11,
              "metadata": {}
            },
            {
              "html": [
                "<pre style=\"color:slategray;max-height:100px;overflow:hidden\" \n",
                "onclick=\"\n",
                "if (this.style.maxHeight === 'none') \n",
                "    this.style.maxHeight = '100px';\n",
                "else\n",
                "    this.style.maxHeight = 'none'; \n",
                "\">val abs' : int -&gt; positive = &lt;fun&gt;\n",
                "</pre>"
              ],
              "output_type": "pyout",
              "prompt_number": 11,
              "metadata": {}
            }
          ],
          "input": [
            "type positive = int;;\n",
            "\n",
            "let abs (x: int) = (if x<0 then -x else x: positive);;\n",
            "\n",
            "let abs' (x: int): positive = if x<0 then -x else x;;"
          ],
          "metadata": {},
          "cell_type": "code",
          "prompt_number": 11,
          "language": "python",
          "collapsed": false
        },
        {
          "source": [
            "#### Syntax to declare a type\n",
            "\n",
            "- `type some_type_identifier = some_type;;`\n",
            "- `some_type_identifier` is a synonym or abbreviation for `some_type`\n",
            "- A type identifer must start with a lowercase letter"
          ],
          "metadata": {},
          "cell_type": "markdown"
        },
        {
          "source": [
            "#### Syntax to annotate with a type\n",
            "\n",
            "- To annotate an identifier with a type: `let x: some_type = some_expression;;`\n",
            "- To annotate a function argument with a type: `let f (x: some_type) = some_expression;;`\n",
            "- To constrain the return type of a function: `let f x: some_type = some_expression;;`\n",
            "- To constrain the type of an expression: `let f x = (some_expression: some_type);;`"
          ],
          "metadata": {},
          "cell_type": "markdown"
        },
        {
          "source": [
            "#### Type annotations in the machine\n",
            "\n",
            "- Let `type t = int` and `x` be a value of type `t`, then `x` is also of type `int`\n",
            "- Hence, a value of type `t` is represented as a value of type `int` in the machine\n",
            "- It is perfectly okay to redefine a type with some other type\n",
            "- __Pitfalls:__ In REPL, be careful with unintended hiding of type identifiers. The error messages may be hard to understand.\n",
            "\n",
            "#### Limitations of type synonyms\n",
            "\n",
            "- Consider `type positive = int`. The type synonym `positive` provides no more static guarantee about positivity than `int`.\n",
            "- __Example:__ The following code is accepted by the type checker: `let x: positive = -1;;`\n",
            "- OCaml provides many ways to define more precise types."
          ],
          "metadata": {},
          "cell_type": "markdown"
        },
        {
          "source": [
            "### Constructing and observing Tuples\n",
            "\n",
            "#### Composite values\n",
            "\n",
            "- Some values are naturally made of several components\n",
            "- Examples:\n",
            "  - A citizen identification $\\rightarrow$ name, firstname, social security number\n",
            "  - A 2D coordinate $\\rightarrow$ abscissa, ordinate"
          ],
          "metadata": {},
          "cell_type": "markdown"
        },
        {
          "outputs": [
            {
              "html": [
                "<pre style=\"color:slategray;max-height:100px;overflow:hidden\" \n",
                "onclick=\"\n",
                "if (this.style.maxHeight === 'none') \n",
                "    this.style.maxHeight = '100px';\n",
                "else\n",
                "    this.style.maxHeight = 'none'; \n",
                "\">val origin : int * int = (0, 0)\n",
                "</pre>"
              ],
              "output_type": "pyout",
              "prompt_number": 17,
              "metadata": {}
            },
            {
              "html": [
                "<pre style=\"color:slategray;max-height:100px;overflow:hidden\" \n",
                "onclick=\"\n",
                "if (this.style.maxHeight === 'none') \n",
                "    this.style.maxHeight = '100px';\n",
                "else\n",
                "    this.style.maxHeight = 'none'; \n",
                "\">val x_positive_limit : int * int = (4611686018427387903, 0)\n",
                "</pre>"
              ],
              "output_type": "pyout",
              "prompt_number": 17,
              "metadata": {}
            },
            {
              "html": [
                "<pre style=\"color:slategray;max-height:100px;overflow:hidden\" \n",
                "onclick=\"\n",
                "if (this.style.maxHeight === 'none') \n",
                "    this.style.maxHeight = '100px';\n",
                "else\n",
                "    this.style.maxHeight = 'none'; \n",
                "\">val x_negative_limit : int * int = (-4611686018427387904, 0)\n",
                "</pre>"
              ],
              "output_type": "pyout",
              "prompt_number": 17,
              "metadata": {}
            },
            {
              "html": [
                "<pre style=\"color:slategray;max-height:100px;overflow:hidden\" \n",
                "onclick=\"\n",
                "if (this.style.maxHeight === 'none') \n",
                "    this.style.maxHeight = '100px';\n",
                "else\n",
                "    this.style.maxHeight = 'none'; \n",
                "\">type point2D = int * int\n",
                "</pre>"
              ],
              "output_type": "pyout",
              "prompt_number": 17,
              "metadata": {}
            },
            {
              "html": [
                "<pre style=\"color:slategray;max-height:100px;overflow:hidden\" \n",
                "onclick=\"\n",
                "if (this.style.maxHeight === 'none') \n",
                "    this.style.maxHeight = '100px';\n",
                "else\n",
                "    this.style.maxHeight = 'none'; \n",
                "\">val origin : point2D = (0, 0)\n",
                "</pre>"
              ],
              "output_type": "pyout",
              "prompt_number": 17,
              "metadata": {}
            }
          ],
          "input": [
            "let origin = (0, 0);;\n",
            "\n",
            "let x_positive_limit = (max_int, 0);;\n",
            "\n",
            "let x_negative_limit = (min_int, 0);;\n",
            "\n",
            "type point2D = int * int;;\n",
            "let origin: point2D = (0, 0);;"
          ],
          "metadata": {},
          "cell_type": "code",
          "prompt_number": 17,
          "language": "python",
          "collapsed": false
        },
        {
          "source": [
            "#### Syntax for tuple construction\n",
            "\n",
            "- The tuple constructor __`*`__ constructs tuple types: `some_type * ... * some_type`\n",
            "- A tuple is constructed by separating its components with a comma: `some_expr, some_expr, ..., some_expr`\n",
            "- Components of a tuple can be _observed_ by __pattern matching__.\n",
            "\n",
            "#### Pattern matching\n",
            "\n",
            "- Patterns describe how values are observed by the program.\n",
            "- Patterns appear in let-bindings and as function arguments.\n",
            "- A simple way to observe a value is to ignore it using a __wildcard pattern__.\n",
            "- In OCaml, it is not possible to access nth element of a tuple directly. Role of each component of a tuple is determined by its position, and it is easy to get the index wrong -> __Records__!"
          ],
          "metadata": {},
          "cell_type": "markdown"
        },
        {
          "outputs": [
            {
              "html": [
                "<pre style=\"color:slategray;max-height:100px;overflow:hidden\" \n",
                "onclick=\"\n",
                "if (this.style.maxHeight === 'none') \n",
                "    this.style.maxHeight = '100px';\n",
                "else\n",
                "    this.style.maxHeight = 'none'; \n",
                "\">- : int = 18\n",
                "</pre>"
              ],
              "output_type": "pyout",
              "prompt_number": 29,
              "metadata": {}
            },
            {
              "html": [
                "<pre style=\"color:slategray;max-height:100px;overflow:hidden\" \n",
                "onclick=\"\n",
                "if (this.style.maxHeight === 'none') \n",
                "    this.style.maxHeight = '100px';\n",
                "else\n",
                "    this.style.maxHeight = 'none'; \n",
                "\">val a : int * int = (18, 24)\n",
                "</pre>"
              ],
              "output_type": "pyout",
              "prompt_number": 29,
              "metadata": {}
            },
            {
              "html": [
                "<pre style=\"color:slategray;max-height:100px;overflow:hidden\" \n",
                "onclick=\"\n",
                "if (this.style.maxHeight === 'none') \n",
                "    this.style.maxHeight = '100px';\n",
                "else\n",
                "    this.style.maxHeight = 'none'; \n",
                "\">val x : int = 18\n",
                "</pre>"
              ],
              "output_type": "pyout",
              "prompt_number": 29,
              "metadata": {}
            },
            {
              "html": [
                "<pre style=\"color:slategray;max-height:100px;overflow:hidden\" \n",
                "onclick=\"\n",
                "if (this.style.maxHeight === 'none') \n",
                "    this.style.maxHeight = '100px';\n",
                "else\n",
                "    this.style.maxHeight = 'none'; \n",
                "\">val abscissa : 'a * 'b -&gt; 'a = &lt;fun&gt;\n",
                "</pre>"
              ],
              "output_type": "pyout",
              "prompt_number": 29,
              "metadata": {}
            },
            {
              "html": [
                "<pre style=\"color:slategray;max-height:100px;overflow:hidden\" \n",
                "onclick=\"\n",
                "if (this.style.maxHeight === 'none') \n",
                "    this.style.maxHeight = '100px';\n",
                "else\n",
                "    this.style.maxHeight = 'none'; \n",
                "\">val ordinate : 'a * 'b -&gt; 'b = &lt;fun&gt;\n",
                "</pre>"
              ],
              "output_type": "pyout",
              "prompt_number": 29,
              "metadata": {}
            }
          ],
          "input": [
            "let (x, _) = (6*3, 2) in x;; (* observe 6*3 by naming it x, and ignore 2 *)\n",
            "\n",
            "let a = (3*6, 4*6);;\n",
            "\n",
            "let (x, _) = a;;\n",
            "\n",
            "let abscissa (x, _) = x;;\n",
            "let ordinate (_, x) = x;;"
          ],
          "metadata": {},
          "cell_type": "code",
          "prompt_number": 29,
          "language": "python",
          "collapsed": false
        },
        {
          "source": [
            "#### Syntax for tuple patterns\n",
            "\n",
            "- A pattern that matches a tuple has the form: `(some_pattern, ..., some_pattern)`\n",
            "- The number if subpatterns must be equal to the number of tuple components.\n",
            "- An identifier can only occur once in a pattern.\n",
            "\n",
            "#### Tuples in the machine\n",
            "\n",
            "- A tuple is represented by a heap-allocated block\n",
            "- Example: In the definitions, `let p = (1, 2, 3);;` and `let q = (p, 0);;` the `p` in `q` is a pointer to the memory address of tuple `p`.\n",
            "- The program holds a pointer to this block.\n",
            "- The pointer can be shared. Example: `let p = (1, 2, 3);;` and `let q = (p, p);;`\n",
            "\n",
            "#### Structural equality vs Physical equality\n",
            "\n",
            "- In OCaml, the operator __`=`__ implements __structural equality__.\n",
            "- Two values are structurally equal if they have the same content.\n",
            "- The operator __`==`__ implements __physical equality__.\n",
            "- Two values are physically equal if they are stored in the same memory location."
          ],
          "metadata": {},
          "cell_type": "markdown"
        },
        {
          "outputs": [
            {
              "html": [
                "<pre style=\"color:slategray;max-height:100px;overflow:hidden\" \n",
                "onclick=\"\n",
                "if (this.style.maxHeight === 'none') \n",
                "    this.style.maxHeight = '100px';\n",
                "else\n",
                "    this.style.maxHeight = 'none'; \n",
                "\">val x : int * int = (1, 2)\n",
                "</pre>"
              ],
              "output_type": "pyout",
              "prompt_number": 30,
              "metadata": {}
            },
            {
              "html": [
                "<pre style=\"color:slategray;max-height:100px;overflow:hidden\" \n",
                "onclick=\"\n",
                "if (this.style.maxHeight === 'none') \n",
                "    this.style.maxHeight = '100px';\n",
                "else\n",
                "    this.style.maxHeight = 'none'; \n",
                "\">val y : int * int = (1, 2)\n",
                "</pre>"
              ],
              "output_type": "pyout",
              "prompt_number": 30,
              "metadata": {}
            },
            {
              "html": [
                "<pre style=\"color:slategray;max-height:100px;overflow:hidden\" \n",
                "onclick=\"\n",
                "if (this.style.maxHeight === 'none') \n",
                "    this.style.maxHeight = '100px';\n",
                "else\n",
                "    this.style.maxHeight = 'none'; \n",
                "\">val z : int * int = (1, 2)\n",
                "</pre>"
              ],
              "output_type": "pyout",
              "prompt_number": 30,
              "metadata": {}
            },
            {
              "html": [
                "<pre style=\"color:slategray;max-height:100px;overflow:hidden\" \n",
                "onclick=\"\n",
                "if (this.style.maxHeight === 'none') \n",
                "    this.style.maxHeight = '100px';\n",
                "else\n",
                "    this.style.maxHeight = 'none'; \n",
                "\">- : bool = true\n",
                "</pre>"
              ],
              "output_type": "pyout",
              "prompt_number": 30,
              "metadata": {}
            },
            {
              "html": [
                "<pre style=\"color:slategray;max-height:100px;overflow:hidden\" \n",
                "onclick=\"\n",
                "if (this.style.maxHeight === 'none') \n",
                "    this.style.maxHeight = '100px';\n",
                "else\n",
                "    this.style.maxHeight = 'none'; \n",
                "\">- : bool = false\n",
                "</pre>"
              ],
              "output_type": "pyout",
              "prompt_number": 30,
              "metadata": {}
            },
            {
              "html": [
                "<pre style=\"color:slategray;max-height:100px;overflow:hidden\" \n",
                "onclick=\"\n",
                "if (this.style.maxHeight === 'none') \n",
                "    this.style.maxHeight = '100px';\n",
                "else\n",
                "    this.style.maxHeight = 'none'; \n",
                "\">- : bool = true\n",
                "</pre>"
              ],
              "output_type": "pyout",
              "prompt_number": 30,
              "metadata": {}
            }
          ],
          "input": [
            "let x = (1, 2);;\n",
            "let y = (1, 2);;\n",
            "let z = x;;\n",
            "\n",
            "x = y;;\n",
            "x == y;;\n",
            "x == z;;"
          ],
          "metadata": {},
          "cell_type": "code",
          "prompt_number": 30,
          "language": "python",
          "collapsed": false
        },
        {
          "source": [
            "#### Pitfalls: Ill-formed patterns\n",
            "\n",
            "- __Invalid arity:__ $\\rightarrow$ not enough or too much patterns wrt number of components of the tuples.\n",
            "- __Nonlinear patterns:__ $\\rightarrow$ using the same identifier in a pattern\n",
            "- These errors are caight by the compiler\n",
            "- Examples: `let (x, _) = (1, 2, 3);;` and `let (x, x, y) = (1, 2, 3);;`\n",
            "\n",
            "#### Pitfalls: Semantically invalid projections\n",
            "\n",
            "- Definition-by-position is error-prone.\n",
            "- Example, `let abscissa (x, y) = y;;` and `let ordinate (x, y) = x;;` are syntactically correct, but compiler cannot understand that abscissa and ordinate are swapped.\n",
            "- __Records__ will help us avoid such errors."
          ],
          "metadata": {},
          "cell_type": "markdown"
        },
        {
          "source": [
            "### Constructing and Observing Records\n",
            "\n",
            "#### Naming components\n",
            "\n",
            "- The role of each component of a tuple is determined by its position.\n",
            "- It is easy to use a wrong index.\n",
            "- What if we could name components?"
          ],
          "metadata": {},
          "cell_type": "markdown"
        },
        {
          "outputs": [
            {
              "html": [
                "<pre style=\"color:slategray;max-height:100px;overflow:hidden\" \n",
                "onclick=\"\n",
                "if (this.style.maxHeight === 'none') \n",
                "    this.style.maxHeight = '100px';\n",
                "else\n",
                "    this.style.maxHeight = 'none'; \n",
                "\">type point2D = { x : int; y : int; }\n",
                "</pre>"
              ],
              "output_type": "pyout",
              "prompt_number": 3,
              "metadata": {}
            },
            {
              "html": [
                "<pre style=\"color:slategray;max-height:100px;overflow:hidden\" \n",
                "onclick=\"\n",
                "if (this.style.maxHeight === 'none') \n",
                "    this.style.maxHeight = '100px';\n",
                "else\n",
                "    this.style.maxHeight = 'none'; \n",
                "\">val origin : point2D = {x = 0; y = 0}\n",
                "</pre>"
              ],
              "output_type": "pyout",
              "prompt_number": 3,
              "metadata": {}
            },
            {
              "html": [
                "<pre style=\"color:slategray;max-height:100px;overflow:hidden\" \n",
                "onclick=\"\n",
                "if (this.style.maxHeight === 'none') \n",
                "    this.style.maxHeight = '100px';\n",
                "else\n",
                "    this.style.maxHeight = 'none'; \n",
                "\">val from_tuple : int * int -&gt; point2D = &lt;fun&gt;\n",
                "</pre>"
              ],
              "output_type": "pyout",
              "prompt_number": 3,
              "metadata": {}
            },
            {
              "html": [
                "<pre style=\"color:slategray;max-height:100px;overflow:hidden\" \n",
                "onclick=\"\n",
                "if (this.style.maxHeight === 'none') \n",
                "    this.style.maxHeight = '100px';\n",
                "else\n",
                "    this.style.maxHeight = 'none'; \n",
                "\">val a : point2D = {x = 4; y = 2}\n",
                "</pre>"
              ],
              "output_type": "pyout",
              "prompt_number": 3,
              "metadata": {}
            },
            {
              "html": [
                "<pre style=\"color:slategray;max-height:100px;overflow:hidden\" \n",
                "onclick=\"\n",
                "if (this.style.maxHeight === 'none') \n",
                "    this.style.maxHeight = '100px';\n",
                "else\n",
                "    this.style.maxHeight = 'none'; \n",
                "\">val b : point2D = {x = 10; y = 5}\n",
                "</pre>"
              ],
              "output_type": "pyout",
              "prompt_number": 3,
              "metadata": {}
            },
            {
              "html": [
                "<pre style=\"color:slategray;max-height:100px;overflow:hidden\" \n",
                "onclick=\"\n",
                "if (this.style.maxHeight === 'none') \n",
                "    this.style.maxHeight = '100px';\n",
                "else\n",
                "    this.style.maxHeight = 'none'; \n",
                "\">type box = { left_upper_corner : point2D; right_lower_corner : point2D; }\n",
                "</pre>"
              ],
              "output_type": "pyout",
              "prompt_number": 3,
              "metadata": {}
            },
            {
              "html": [
                "<pre style=\"color:slategray;max-height:100px;overflow:hidden\" \n",
                "onclick=\"\n",
                "if (this.style.maxHeight === 'none') \n",
                "    this.style.maxHeight = '100px';\n",
                "else\n",
                "    this.style.maxHeight = 'none'; \n",
                "\">val the_box : box =\n",
                "  {left_upper_corner = {x = 4; y = 2}; right_lower_corner = {x = 10; y = 5}}\n",
                "</pre>"
              ],
              "output_type": "pyout",
              "prompt_number": 3,
              "metadata": {}
            }
          ],
          "input": [
            "type point2D = {x: int; y: int};;\n",
            "let origin = {x=0; y=0};;\n",
            "\n",
            "let from_tuple (x, y) = {x; y};;  (* {x=x; y=y};; *)\n",
            "\n",
            "let a: point2D = from_tuple (4, 2);;\n",
            "\n",
            "let b: point2D = from_tuple (10, 5);;\n",
            "\n",
            "type box = {left_upper_corner: point2D; right_lower_corner: point2D;};;\n",
            "\n",
            "let the_box = {left_upper_corner=a; right_lower_corner=b};;"
          ],
          "metadata": {},
          "cell_type": "code",
          "prompt_number": 3,
          "language": "python",
          "collapsed": false
        },
        {
          "source": [
            "#### Syntax to declare a record type\n",
            "\n",
            "- Contrary to tuples, record types must be declared.\n",
            "- To declare a record type: `type some_type_identifier = {field_name: some_type; ...; field_name: some_type}`\n",
            "- All field names must be distinct.\n",
            "- Preferrably field names must be unused in other record types.\n",
            "\n",
            "\n",
            "#### Syntax to construct a record\n",
            "\n",
            "- To construct a record: `{field_name=some_expr; ...; field_name=some_expr}`\n",
            "\n",
            "#### Syntax to observe a record\n",
            "\n",
            "- To observe a specific field: `some_expr.field_name`\n",
            "- To observe several fields of a record, one can use __record patterns__: `{field_name: some_pattern; ...; field_name: some_pattern}`\n",
            "- A record pattern may not mention all the record fields.\n",
            "- In the machine, a record is represented by a __heap allocated block__, exactly like tuples.\n",
            "- Pitfalls: Typo in field name\n",
            "  - The compiler can detect typos in a field identifier using type declaration\n",
            "  - `type point2D = {x: int; y: int};;` | `let stuff = {x=0};;` $\\rightarrow$ Error\n",
            "- Pitfalls: Ill-typed field definitions\n",
            "  - The value of all fields must be compatible with the field type declared by the record type definition\n",
            "  - `type person = {name: String; age: int};;` | `let luke = {name=\"Sky walker\"; age=\"26\"};;` $\\rightarrow$ Error\n",
            "- Pitfalls: Shadowing a field name\n",
            "  - The compiler does its best to disambiguate the usage of labels, but sometimes the ambiguity cannot be fixed (and is probably not intended by the programmer).\n",
            "  - Always avoid sharing field names across records.\n",
            "  - `type t = {x: bool};;` | `type u = {x: int};;` | `{x: true}` $\\rightarrow$ Error"
          ],
          "metadata": {},
          "cell_type": "markdown"
        },
        {
          "source": [
            "### Constructing and Observing Arrays\n",
            "\n",
            "#### Unbounded composite values\n",
            "\n",
            "- A limitation of tuples and records: their sizes are statically bounded.\n",
            "- Arrays allow to define composite values whose size is dynamically defined.\n",
            "- For type-checking to remain simple, all array elements must have the same type."
          ],
          "metadata": {},
          "cell_type": "markdown"
        },
        {
          "outputs": [
            {
              "html": [
                "<pre style=\"color:slategray;max-height:100px;overflow:hidden\" \n",
                "onclick=\"\n",
                "if (this.style.maxHeight === 'none') \n",
                "    this.style.maxHeight = '100px';\n",
                "else\n",
                "    this.style.maxHeight = 'none'; \n",
                "\">val p : int array = [|1; 2; 3|]\n",
                "</pre>"
              ],
              "output_type": "pyout",
              "prompt_number": 4,
              "metadata": {}
            },
            {
              "html": [
                "<pre style=\"color:slategray;max-height:100px;overflow:hidden\" \n",
                "onclick=\"\n",
                "if (this.style.maxHeight === 'none') \n",
                "    this.style.maxHeight = '100px';\n",
                "else\n",
                "    this.style.maxHeight = 'none'; \n",
                "\">val square : int -&gt; int = &lt;fun&gt;\n",
                "</pre>"
              ],
              "output_type": "pyout",
              "prompt_number": 4,
              "metadata": {}
            },
            {
              "html": [
                "<pre style=\"color:slategray;max-height:100px;overflow:hidden\" \n",
                "onclick=\"\n",
                "if (this.style.maxHeight === 'none') \n",
                "    this.style.maxHeight = '100px';\n",
                "else\n",
                "    this.style.maxHeight = 'none'; \n",
                "\">val squares : int -&gt; int array = &lt;fun&gt;\n",
                "</pre>"
              ],
              "output_type": "pyout",
              "prompt_number": 4,
              "metadata": {}
            },
            {
              "html": [
                "<pre style=\"color:slategray;max-height:100px;overflow:hidden\" \n",
                "onclick=\"\n",
                "if (this.style.maxHeight === 'none') \n",
                "    this.style.maxHeight = '100px';\n",
                "else\n",
                "    this.style.maxHeight = 'none'; \n",
                "\">val s1 : int array = [|0; 1; 4; 9; 16|]\n",
                "</pre>"
              ],
              "output_type": "pyout",
              "prompt_number": 4,
              "metadata": {}
            },
            {
              "html": [
                "<pre style=\"color:slategray;max-height:100px;overflow:hidden\" \n",
                "onclick=\"\n",
                "if (this.style.maxHeight === 'none') \n",
                "    this.style.maxHeight = '100px';\n",
                "else\n",
                "    this.style.maxHeight = 'none'; \n",
                "\">val s2 : int array = [|0; 1; 4; 9; 16; 25; 36; 49; 64; 81|]\n",
                "</pre>"
              ],
              "output_type": "pyout",
              "prompt_number": 4,
              "metadata": {}
            }
          ],
          "input": [
            "let p = [|1; 2; 3|];;\n",
            "\n",
            "let square x = x*x;;\n",
            "\n",
            "let squares n = Array.init n square;;\n",
            "let s1 = squares 5;;\n",
            "let s2 = squares 10;;"
          ],
          "metadata": {},
          "cell_type": "code",
          "prompt_number": 4,
          "language": "python",
          "collapsed": false
        },
        {
          "source": [
            "#### Syntax for array type\n",
            "\n",
            "- The type of an array whose elements have __some_type__ is __some_type array__.\n",
            "- __array__ is a pre-defined type constructor.\n",
            "- The standard library module __Array__ provides functions over arrays.\n",
            "\n",
            "#### Syntax for array construction\n",
            "\n",
            "- Arrays whose elements and size are known at compile-time are written as: `[|some_expr; ...; some_expr|]`\n",
            "- The function `Array.make` expects an integer representing size of the array and a value to initialize each component of the array.\n",
            "- The function `Array.init` expects an integer representing size of the array and a function to initialize each component of the array.\n",
            "- The initialization function is given the index of the component and must return its value.\n",
            "- `Array.length` returns size of an array.\n",
            "\n",
            "#### Syntax to observe array cells\n",
            "\n",
            "- To observe a specific component of an array using an index: `some_expr.(some_expr)`\n",
            "- Indices of array `'a'` are taken between `0` to `Array.length a - 1`.\n",
            "- To observe several components of an array, one can use array patterns: `[|some_pattern; ...; some_pattern|]`\n",
            "- In the memory, an array is a heap allocated block."
          ],
          "metadata": {},
          "cell_type": "markdown"
        },
        {
          "outputs": [
            {
              "html": [
                "<pre style=\"color:slategray;max-height:100px;overflow:hidden\" \n",
                "onclick=\"\n",
                "if (this.style.maxHeight === 'none') \n",
                "    this.style.maxHeight = '100px';\n",
                "else\n",
                "    this.style.maxHeight = 'none'; \n",
                "\">val swap : 'a array -&gt; 'a array = &lt;fun&gt;\n",
                "</pre>"
              ],
              "output_type": "pyout",
              "prompt_number": 15,
              "metadata": {}
            },
            {
              "html": [
                "<pre style=\"color:slategray;max-height:100px;overflow:hidden\" \n",
                "onclick=\"\n",
                "if (this.style.maxHeight === 'none') \n",
                "    this.style.maxHeight = '100px';\n",
                "else\n",
                "    this.style.maxHeight = 'none'; \n",
                "\">- : int array = [|0; 1|]\n",
                "</pre>"
              ],
              "output_type": "pyout",
              "prompt_number": 15,
              "metadata": {}
            },
            {
              "html": [
                "<pre style=\"color:slategray;max-height:100px;overflow:hidden\" \n",
                "onclick=\"\n",
                "if (this.style.maxHeight === 'none') \n",
                "    this.style.maxHeight = '100px';\n",
                "else\n",
                "    this.style.maxHeight = 'none'; \n",
                "\">- : string array = [|&quot;Anirudha&quot;; &quot;Bose&quot;|]\n",
                "</pre>"
              ],
              "output_type": "pyout",
              "prompt_number": 15,
              "metadata": {}
            }
          ],
          "input": [
            "let swap a = [|a.(1); a.(0)|];;  (* Polymorphic typed *)\n",
            "\n",
            "swap [|1; 0|];;\n",
            "swap [|\"Bose\"; \"Anirudha\"|];;"
          ],
          "metadata": {},
          "cell_type": "code",
          "prompt_number": 15,
          "language": "python",
          "collapsed": false
        },
        {
          "source": [
            "#### Pitfalls\n",
            "\n",
            "- Inexhaustive pattern matching\n",
            "- Heterogeneous element types: All the elements of an array must have the same type\n",
            "- Out of bound: The compiler cannot ensure that all observations are valid. A negative index, or an index greater than `Array.length a - 1` is an invalid observation of the array `a`."
          ],
          "metadata": {},
          "cell_type": "markdown"
        },
        {
          "outputs": [
            {
              "text": [
                "File \"[21]\", line 4, characters 9-28:\n",
                "Warning 8: this pattern-matching is not exhaustive.\n",
                "Here is an example of a value that is not matched:\n",
                "[|  |]\n"
              ],
              "output_type": "stream",
              "stream": "stderr"
            },
            {
              "html": [
                "<pre style=\"color:slategray;max-height:100px;overflow:hidden\" \n",
                "onclick=\"\n",
                "if (this.style.maxHeight === 'none') \n",
                "    this.style.maxHeight = '100px';\n",
                "else\n",
                "    this.style.maxHeight = 'none'; \n",
                "\">val swap : 'a array -&gt; 'a array = &lt;fun&gt;\n",
                "</pre>"
              ],
              "output_type": "pyout",
              "prompt_number": 21,
              "metadata": {}
            },
            {
              "html": [
                "<pre style=\"color:slategray;max-height:100px;overflow:hidden\" \n",
                "onclick=\"\n",
                "if (this.style.maxHeight === 'none') \n",
                "    this.style.maxHeight = '100px';\n",
                "else\n",
                "    this.style.maxHeight = 'none'; \n",
                "\">- : int array = [|2; 1|]\n",
                "</pre>"
              ],
              "output_type": "pyout",
              "prompt_number": 21,
              "metadata": {}
            },
            {
              "html": [
                "<pre style=\"color:slategray;max-height:100px;overflow:hidden\" \n",
                "onclick=\"\n",
                "if (this.style.maxHeight === 'none') \n",
                "    this.style.maxHeight = '100px';\n",
                "else\n",
                "    this.style.maxHeight = 'none'; \n",
                "\">val swap : 'a array -&gt; 'a array = &lt;fun&gt;\n",
                "</pre>"
              ],
              "output_type": "pyout",
              "prompt_number": 21,
              "metadata": {}
            },
            {
              "html": [
                "<pre style=\"color:red;max-height:100px;overflow:hidden\" \n",
                "onclick=\"\n",
                "if (this.style.maxHeight === 'none') \n",
                "    this.style.maxHeight = '100px';\n",
                "else\n",
                "    this.style.maxHeight = 'none'; \n",
                "\">Exception: Match_failure (&quot;[21]&quot;, 4, 9).\n",
                "</pre>"
              ],
              "output_type": "pyout",
              "prompt_number": 21,
              "metadata": {}
            }
          ],
          "input": [
            "let swap a = [|a.(1); a.(0)|];;\n",
            "swap [|1; 2; 3|];;\n",
            "\n",
            "let swap [|x; y|] = [|y; x|];;\n",
            "swap [|1; 2; 3|];;"
          ],
          "metadata": {},
          "cell_type": "code",
          "prompt_number": 21,
          "language": "python",
          "collapsed": false
        },
        {
          "source": [
            "### Case Study: A small (typed) database\n",
            "\n",
            "#### Putting everything together\n",
            "\n",
            "- A database for a contact list with 3 kinds of queries: __insert__, __delete__, __search__.\n",
            "- A database engine is a function of type: `database -> query -> status * database * contact`\n",
            "- __status__ is __true__ if the query went well."
          ],
          "metadata": {},
          "cell_type": "markdown"
        },
        {
          "outputs": [
            {
              "html": [
                "<pre style=\"color:slategray;max-height:100px;overflow:hidden\" \n",
                "onclick=\"\n",
                "if (this.style.maxHeight === 'none') \n",
                "    this.style.maxHeight = '100px';\n",
                "else\n",
                "    this.style.maxHeight = 'none'; \n",
                "\">type phone_number = int * int * int * int\n",
                "</pre>"
              ],
              "output_type": "pyout",
              "prompt_number": 39,
              "metadata": {}
            },
            {
              "html": [
                "<pre style=\"color:slategray;max-height:100px;overflow:hidden\" \n",
                "onclick=\"\n",
                "if (this.style.maxHeight === 'none') \n",
                "    this.style.maxHeight = '100px';\n",
                "else\n",
                "    this.style.maxHeight = 'none'; \n",
                "\">type contact = { name : string; phone_number : phone_number; }\n",
                "</pre>"
              ],
              "output_type": "pyout",
              "prompt_number": 39,
              "metadata": {}
            },
            {
              "html": [
                "<pre style=\"color:slategray;max-height:100px;overflow:hidden\" \n",
                "onclick=\"\n",
                "if (this.style.maxHeight === 'none') \n",
                "    this.style.maxHeight = '100px';\n",
                "else\n",
                "    this.style.maxHeight = 'none'; \n",
                "\">val nobody : contact = {name = &quot;&quot;; phone_number = (0, 0, 0, 0)}\n",
                "</pre>"
              ],
              "output_type": "pyout",
              "prompt_number": 39,
              "metadata": {}
            },
            {
              "html": [
                "<pre style=\"color:slategray;max-height:100px;overflow:hidden\" \n",
                "onclick=\"\n",
                "if (this.style.maxHeight === 'none') \n",
                "    this.style.maxHeight = '100px';\n",
                "else\n",
                "    this.style.maxHeight = 'none'; \n",
                "\">type database = { number_of_contacts : int; contacts : contact array; }\n",
                "</pre>"
              ],
              "output_type": "pyout",
              "prompt_number": 39,
              "metadata": {}
            },
            {
              "html": [
                "<pre style=\"color:slategray;max-height:100px;overflow:hidden\" \n",
                "onclick=\"\n",
                "if (this.style.maxHeight === 'none') \n",
                "    this.style.maxHeight = '100px';\n",
                "else\n",
                "    this.style.maxHeight = 'none'; \n",
                "\">val make : int -&gt; database = &lt;fun&gt;\n",
                "</pre>"
              ],
              "output_type": "pyout",
              "prompt_number": 39,
              "metadata": {}
            },
            {
              "html": [
                "<pre style=\"color:slategray;max-height:100px;overflow:hidden\" \n",
                "onclick=\"\n",
                "if (this.style.maxHeight === 'none') \n",
                "    this.style.maxHeight = '100px';\n",
                "else\n",
                "    this.style.maxHeight = 'none'; \n",
                "\">type query = { code : int; contact : contact; }\n",
                "</pre>"
              ],
              "output_type": "pyout",
              "prompt_number": 39,
              "metadata": {}
            }
          ],
          "input": [
            "type phone_number = int * int * int * int;;\n",
            "\n",
            "type contact = {\n",
            "  name: string;\n",
            "  phone_number: phone_number;\n",
            "};;\n",
            "\n",
            "let nobody = {name=\"\"; phone_number=(0, 0, 0, 0)};;\n",
            "\n",
            "type database = {\n",
            "  number_of_contacts: int;\n",
            "  contacts: contact array;\n",
            "};;\n",
            "\n",
            "let make max_number_of_contacts = {\n",
            "  number_of_contacts = 0;\n",
            "  contacts = Array.make max_number_of_contacts nobody;\n",
            "};;\n",
            "\n",
            "type query = {\n",
            "  code: int;\n",
            "  contact: contact;\n",
            "};;"
          ],
          "metadata": {},
          "cell_type": "code",
          "prompt_number": 39,
          "language": "python",
          "collapsed": false
        },
        {
          "outputs": [
            {
              "html": [
                "<pre style=\"color:slategray;max-height:100px;overflow:hidden\" \n",
                "onclick=\"\n",
                "if (this.style.maxHeight === 'none') \n",
                "    this.style.maxHeight = '100px';\n",
                "else\n",
                "    this.style.maxHeight = 'none'; \n",
                "\">val search : database -&gt; contact -&gt; bool * database * contact = &lt;fun&gt;\n",
                "</pre>"
              ],
              "output_type": "pyout",
              "prompt_number": 40,
              "metadata": {}
            }
          ],
          "input": [
            "let search db contact =\n",
            "  let rec aux idx =\n",
            "    if idx >= db.number_of_contacts\n",
            "    then\n",
            "      (false, db, nobody)\n",
            "    else\n",
            "      if db.contacts.(idx).name = contact.name\n",
            "      then\n",
            "        (true, db, db.contacts.(idx))\n",
            "      else\n",
            "        aux (idx+1)\n",
            "  in\n",
            "  aux 0;;"
          ],
          "metadata": {},
          "cell_type": "code",
          "prompt_number": 40,
          "language": "python",
          "collapsed": false
        },
        {
          "outputs": [
            {
              "html": [
                "<pre style=\"color:slategray;max-height:100px;overflow:hidden\" \n",
                "onclick=\"\n",
                "if (this.style.maxHeight === 'none') \n",
                "    this.style.maxHeight = '100px';\n",
                "else\n",
                "    this.style.maxHeight = 'none'; \n",
                "\">val insert : database -&gt; contact -&gt; bool * database * contact = &lt;fun&gt;\n",
                "</pre>"
              ],
              "output_type": "pyout",
              "prompt_number": 41,
              "metadata": {}
            }
          ],
          "input": [
            "let insert db contact =\n",
            "  if db.number_of_contacts = Array.length db.contacts - 1\n",
            "  then\n",
            "    (false, db, nobody)\n",
            "  else\n",
            "    let (status, db, _) = search db contact\n",
            "    in\n",
            "    if status\n",
            "    then\n",
            "      (false, db, nobody)\n",
            "    else\n",
            "      let cells i =\n",
            "        if i = db.number_of_contacts\n",
            "        then\n",
            "          contact\n",
            "        else\n",
            "          db.contacts.(i)\n",
            "      in\n",
            "      let db' = {\n",
            "        number_of_contacts = db.number_of_contacts + 1;\n",
            "        contacts = Array.init (Array.length db.contacts) cells;\n",
            "      }\n",
            "      in\n",
            "      (true, db', contact)\n",
            ";;"
          ],
          "metadata": {},
          "cell_type": "code",
          "prompt_number": 41,
          "language": "python",
          "collapsed": false
        },
        {
          "outputs": [
            {
              "html": [
                "<pre style=\"color:slategray;max-height:100px;overflow:hidden\" \n",
                "onclick=\"\n",
                "if (this.style.maxHeight === 'none') \n",
                "    this.style.maxHeight = '100px';\n",
                "else\n",
                "    this.style.maxHeight = 'none'; \n",
                "\">val delete : database -&gt; contact -&gt; bool * database * contact = &lt;fun&gt;\n",
                "</pre>"
              ],
              "output_type": "pyout",
              "prompt_number": 42,
              "metadata": {}
            }
          ],
          "input": [
            "let delete db contact =\n",
            "  let (status, db, contact) = search db contact\n",
            "  in\n",
            "  if not status\n",
            "  then\n",
            "    (false, db, contact)\n",
            "  else\n",
            "    let cells i =\n",
            "      if db.contacts.(i).name = contact.name\n",
            "      then\n",
            "        nobody\n",
            "      else\n",
            "        db.contacts.(i)\n",
            "    in\n",
            "    let db' = {\n",
            "      number_of_contacts = db.number_of_contacts - 1;\n",
            "      contacts = Array.init (Array.length db.contacts) cells;\n",
            "    }\n",
            "    in\n",
            "    (true, db', contact)\n",
            ";;"
          ],
          "metadata": {},
          "cell_type": "code",
          "prompt_number": 42,
          "language": "python",
          "collapsed": false
        },
        {
          "outputs": [
            {
              "html": [
                "<pre style=\"color:slategray;max-height:100px;overflow:hidden\" \n",
                "onclick=\"\n",
                "if (this.style.maxHeight === 'none') \n",
                "    this.style.maxHeight = '100px';\n",
                "else\n",
                "    this.style.maxHeight = 'none'; \n",
                "\">val engine : database -&gt; int * contact -&gt; bool * database * contact = &lt;fun&gt;\n",
                "</pre>"
              ],
              "output_type": "pyout",
              "prompt_number": 43,
              "metadata": {}
            }
          ],
          "input": [
            "let engine db (code, contact) =\n",
            "  if code = 0 then insert db contact\n",
            "  else if code = 1 then delete db contact\n",
            "  else if code = 2 then search db contact\n",
            "  else (false, db, nobody)\n",
            ";;"
          ],
          "metadata": {},
          "cell_type": "code",
          "prompt_number": 43,
          "language": "python",
          "collapsed": false
        },
        {
          "outputs": [
            {
              "html": [
                "<pre style=\"color:slategray;max-height:100px;overflow:hidden\" \n",
                "onclick=\"\n",
                "if (this.style.maxHeight === 'none') \n",
                "    this.style.maxHeight = '100px';\n",
                "else\n",
                "    this.style.maxHeight = 'none'; \n",
                "\">val db : database =\n",
                "  {number_of_contacts = 0;\n",
                "   contacts =\n",
                "    [|{name = &quot;&quot;; phone_number = (0, 0, 0, 0)};\n",
                "      {name = &quot;&quot;; phone_number = (0, 0, 0, 0)};\n",
                "      {name = &quot;&quot;; phone_number = (0, 0, 0, 0)};\n",
                "      {name = &quot;&quot;; phone_number = (0, 0, 0, 0)};\n",
                "      {name = &quot;&quot;; phone_number = (0, 0, 0, 0)}|]}\n",
                "</pre>"
              ],
              "output_type": "pyout",
              "prompt_number": 44,
              "metadata": {}
            }
          ],
          "input": [
            "let db = make 5;; (* Creating the database *)"
          ],
          "metadata": {},
          "cell_type": "code",
          "prompt_number": 44,
          "language": "python",
          "collapsed": false
        },
        {
          "outputs": [
            {
              "html": [
                "<pre style=\"color:slategray;max-height:100px;overflow:hidden\" \n",
                "onclick=\"\n",
                "if (this.style.maxHeight === 'none') \n",
                "    this.style.maxHeight = '100px';\n",
                "else\n",
                "    this.style.maxHeight = 'none'; \n",
                "\">val status : bool = true\n",
                "val db : database =\n",
                "  {number_of_contacts = 1;\n",
                "   contacts =\n",
                "    [|{name = &quot;luke&quot;; phone_number = (1, 2, 3, 4)};\n",
                "      {name = &quot;&quot;; phone_number = (0, 0, 0, 0)};\n",
                "      {name = &quot;&quot;; phone_number = (0, 0, 0, 0)};\n",
                "      {name = &quot;&quot;; phone_number = (0, 0, 0, 0)};\n",
                "      {name = &quot;&quot;; phone_number = (0, 0, 0, 0)}|]}\n",
                "val contact : contact = {name = &quot;luke&quot;; phone_number = (1, 2, 3, 4)}\n",
                "</pre>"
              ],
              "output_type": "pyout",
              "prompt_number": 45,
              "metadata": {}
            }
          ],
          "input": [
            "let (status, db, contact) = engine db (0, {name=\"luke\"; phone_number=(1, 2, 3, 4)});;"
          ],
          "metadata": {},
          "cell_type": "code",
          "prompt_number": 45,
          "language": "python",
          "collapsed": false
        },
        {
          "source": [
            "#### A purely functional database engine\n",
            "\n",
            "- A non-destructive program.\n",
            "- This database has type: `database -> query -> status * database * contact`.\n",
            "- As shown in this type, a new database is created each ime a query is processed.\n",
            "- Hence, previous versions of database are still valid.\n",
            "- In imperative programming, applying a query would modify the database instead.\n",
            "- This database implementation is a purely functional program\n",
            "\n",
            "#### Purely functional program\n",
            "\n",
            "- Side-effects are considered harmful.\n",
            "- Functional programming encourages a style in which functions __produce values__ instead of __modifying the memory__ as in imperative programming.\n",
            "- The evaluation of a function does not depend upon the state of the program, but only on its arguments. Exactly like in Mathematics.\n",
            "- Mathematical specification can therefore be used in functional programs.\n",
            "- For instance, for all database `d` and for all contact `c`, if `insert db c = (true, db', _)` then `search db' c = (true, db', c)`.\n",
            "- As it does not depend upon the state of the machine, a functional program can be used anytime.\n",
            "- Functional programs are more composable than imperative ones.\n",
            "\n",
            "#### Weaknesses of the purely functional database implementation\n",
            "\n",
            "- Imprecise typing of query results\n",
            "  - Search queries should only return a contact, and insert queries should only return a new database.\n",
            "  - The type of __engine__ forces us to use a single type for all query results.\n",
            "  - The type of engine should be the union of all query result types.\n",
            "- Inefficient duplication of databases\n",
            "  - Each time a contact is inserted, the database is duplicated.\n",
            "  - We should use a data structure that enables more sharing.\n",
            "  - __Algebraic datatypes__ will be an elegant answer to all these problems."
          ],
          "metadata": {},
          "cell_type": "markdown"
        }
      ],
      "metadata": {}
    }
  ],
  "metadata": { "name": "", "language": "ocaml" },
  "nbformat": 3,
  "nbformat_minor": 0
}